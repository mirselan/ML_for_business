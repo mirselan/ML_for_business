{
  "cells": [
    {
      "cell_type": "markdown",
      "metadata": {
        "id": "cucziOM-2qkL"
      },
      "source": [
        "#Интеграция. Итоговый проект/server"
      ]
    },
    {
      "cell_type": "markdown",
      "metadata": {
        "id": "VBe8CaYR3Szi"
      },
      "source": [
        "#Step 1 - TRAIN"
      ]
    },
    {
      "cell_type": "markdown",
      "metadata": {
        "id": "AoycqfLL3WGU"
      },
      "source": [
        "### Обучение пайплайна\n",
        "\n",
        "1. Загрузим данные https://www.kaggle.com/datasets/russellyates88/suicide-rates-overview-1985-to-2016\n",
        "2. Соберем пайплайн с простейшим препроцессингом данных\n",
        "3. Обучим градиентный бустинг и сохраним на диск предобученный пайплайн"
      ]
    },
    {
      "cell_type": "code",
      "execution_count": 1,
      "metadata": {
        "id": "f24iykkD8Ouv"
      },
      "outputs": [],
      "source": [
        "import pandas as pd \n",
        "import dill\n",
        "import numpy as np\n",
        "from sklearn.model_selection import train_test_split\n",
        "from sklearn.base import BaseEstimator, TransformerMixin\n",
        "#from sklearn.linear_model import LinearRegression\n",
        "from sklearn.ensemble import GradientBoostingRegressor\n",
        "\n",
        "#visualisation\n",
        "import matplotlib\n",
        "import matplotlib.pyplot as plt\n",
        "import seaborn as sns\n",
        "%matplotlib inline\n",
        "\n",
        "#metrics\n",
        "from sklearn.metrics import mean_squared_error as mse, r2_score as r2\n",
        "\n",
        "#normalizing data\n",
        "from sklearn.preprocessing import StandardScaler, OrdinalEncoder\n",
        "\n",
        "#pipeline\n",
        "from sklearn.pipeline import Pipeline, FeatureUnion\n",
        "\n",
        "#imputer\n",
        "from sklearn.impute import SimpleImputer\n",
        "\n",
        "import sklearn.datasets\n",
        "\n",
        "import warnings\n",
        "warnings.filterwarnings('ignore')"
      ]
    },
    {
      "cell_type": "code",
      "execution_count": 2,
      "metadata": {
        "id": "uwM3B4Zc_8Os"
      },
      "outputs": [],
      "source": [
        "\n",
        "def str_to_num(str_a):\n",
        "    \"\"\"Перевод строки из цифр и знаков препинания в число\"\"\"\n",
        "    if type(str_a) == str and ',' in str_a:\n",
        "        b_num = int(str_a.replace(',',''))\n",
        "        #print(b)\n",
        "    elif type(str_a) == str and '.' in str_a:\n",
        "        b_num = float(str_a)\n",
        "        \n",
        "    elif type(str_a) == str:\n",
        "        b_num = int(str_a)\n",
        "        \n",
        "    else:\n",
        "        b_num = str_a\n",
        "    return b_num\n"
      ]
    },
    {
      "cell_type": "code",
      "execution_count": 3,
      "metadata": {
        "id": "G0StqEnCwy4r"
      },
      "outputs": [],
      "source": [
        "# Пути к директориям и файлам:\n",
        "REPORTS_FILE_PATH = './reports/'"
      ]
    },
    {
      "cell_type": "code",
      "execution_count": 4,
      "metadata": {
        "id": "1fO9EaX7RoXA"
      },
      "outputs": [],
      "source": [
        "def evaluate_preds(true_values, pred_values, save=False):\n",
        "    \"\"\"Оценка качества модели и график preds vs true\"\"\"\n",
        "    \n",
        "    print(\"R2:\\t\" + str(round(r2(true_values, pred_values), 3)) + \"\\n\" +\n",
        "          \"RMSE:\\t\" + str(round(np.sqrt(mse(true_values, pred_values)), 3)) + \"\\n\" +\n",
        "          \"MSE:\\t\" + str(round(mse(true_values, pred_values), 3))\n",
        "         )\n",
        "    \n",
        "    plt.figure(figsize=(8,8))\n",
        "    \n",
        "    sns.scatterplot(x=pred_values, y=true_values)\n",
        "    plt.plot([0, 250], [0, 250], linestyle='--', color='black')  # диагональ, где true_values = pred_values\n",
        "    \n",
        "    plt.xlabel('Predicted values')\n",
        "    plt.ylabel('True values')\n",
        "    plt.title('True vs Predicted values')\n",
        "    \n",
        "    if save == True:\n",
        "        plt.savefig(REPORTS_FILE_PATH + 'report.png')\n",
        "    plt.show()"
      ]
    },
    {
      "cell_type": "markdown",
      "metadata": {
        "id": "FpOMTMzY627i"
      },
      "source": [
        "Загрузим данные\n",
        "\n",
        "Ссылка на google drive:https://drive.google.com/file/d/1QLC9wmCeB88ZtMbhsyIWoEUeV_Yv7pwN"
      ]
    },
    {
      "cell_type": "code",
      "execution_count": 5,
      "metadata": {
        "colab": {
          "base_uri": "https://localhost:8080/"
        },
        "id": "fL2qBUIK2mi3",
        "outputId": "3fb8d3e1-3d7e-4b30-9f60-fbd711e5c4fe"
      },
      "outputs": [
        {
          "output_type": "stream",
          "name": "stdout",
          "text": [
            "--2022-04-20 04:39:07--  https://drive.google.com/uc?export=download&id=1QLC9wmCeB88ZtMbhsyIWoEUeV_Yv7pwN\n",
            "Resolving drive.google.com (drive.google.com)... 173.194.216.101, 173.194.216.138, 173.194.216.102, ...\n",
            "Connecting to drive.google.com (drive.google.com)|173.194.216.101|:443... connected.\n",
            "HTTP request sent, awaiting response... 303 See Other\n",
            "Location: https://doc-0s-9s-docs.googleusercontent.com/docs/securesc/ha0ro937gcuc7l7deffksulhg5h7mbp1/2rnsh91vd24he4l75op7lu4suf79p124/1650429525000/11422071002972207359/*/1QLC9wmCeB88ZtMbhsyIWoEUeV_Yv7pwN?e=download [following]\n",
            "Warning: wildcards not supported in HTTP.\n",
            "--2022-04-20 04:39:08--  https://doc-0s-9s-docs.googleusercontent.com/docs/securesc/ha0ro937gcuc7l7deffksulhg5h7mbp1/2rnsh91vd24he4l75op7lu4suf79p124/1650429525000/11422071002972207359/*/1QLC9wmCeB88ZtMbhsyIWoEUeV_Yv7pwN?e=download\n",
            "Resolving doc-0s-9s-docs.googleusercontent.com (doc-0s-9s-docs.googleusercontent.com)... 74.125.141.132, 2607:f8b0:400c:c06::84\n",
            "Connecting to doc-0s-9s-docs.googleusercontent.com (doc-0s-9s-docs.googleusercontent.com)|74.125.141.132|:443... connected.\n",
            "HTTP request sent, awaiting response... 200 OK\n",
            "Length: 2706377 (2.6M) [text/csv]\n",
            "Saving to: ‘suicide-rates-overview.csv’\n",
            "\n",
            "suicide-rates-overv 100%[===================>]   2.58M  --.-KB/s    in 0.01s   \n",
            "\n",
            "2022-04-20 04:39:08 (198 MB/s) - ‘suicide-rates-overview.csv’ saved [2706377/2706377]\n",
            "\n"
          ]
        }
      ],
      "source": [
        "!wget 'https://drive.google.com/uc?export=download&id=1QLC9wmCeB88ZtMbhsyIWoEUeV_Yv7pwN' -O suicide-rates-overview.csv"
      ]
    },
    {
      "cell_type": "code",
      "execution_count": 6,
      "metadata": {
        "colab": {
          "base_uri": "https://localhost:8080/",
          "height": 187
        },
        "id": "gB4OrEM_8E8E",
        "outputId": "e33709e7-66f3-4d8b-b30b-311ffbdb8383"
      },
      "outputs": [
        {
          "output_type": "execute_result",
          "data": {
            "text/plain": [
              "   country  year     sex          age  suicides_no  population  \\\n",
              "0  Albania  1987    male  15-24 years           21      312900   \n",
              "1  Albania  1987    male  35-54 years           16      308000   \n",
              "2  Albania  1987  female  15-24 years           14      289700   \n",
              "\n",
              "   suicides/100k pop country-year  HDI for year  gdp_for_year ($)   \\\n",
              "0               6.71  Albania1987           NaN      2,156,624,900   \n",
              "1               5.19  Albania1987           NaN      2,156,624,900   \n",
              "2               4.83  Albania1987           NaN      2,156,624,900   \n",
              "\n",
              "   gdp_per_capita ($)    generation  \n",
              "0                 796  Generation X  \n",
              "1                 796        Silent  \n",
              "2                 796  Generation X  "
            ],
            "text/html": [
              "\n",
              "  <div id=\"df-e1efd867-f06b-4114-bde2-5123649ae0e3\">\n",
              "    <div class=\"colab-df-container\">\n",
              "      <div>\n",
              "<style scoped>\n",
              "    .dataframe tbody tr th:only-of-type {\n",
              "        vertical-align: middle;\n",
              "    }\n",
              "\n",
              "    .dataframe tbody tr th {\n",
              "        vertical-align: top;\n",
              "    }\n",
              "\n",
              "    .dataframe thead th {\n",
              "        text-align: right;\n",
              "    }\n",
              "</style>\n",
              "<table border=\"1\" class=\"dataframe\">\n",
              "  <thead>\n",
              "    <tr style=\"text-align: right;\">\n",
              "      <th></th>\n",
              "      <th>country</th>\n",
              "      <th>year</th>\n",
              "      <th>sex</th>\n",
              "      <th>age</th>\n",
              "      <th>suicides_no</th>\n",
              "      <th>population</th>\n",
              "      <th>suicides/100k pop</th>\n",
              "      <th>country-year</th>\n",
              "      <th>HDI for year</th>\n",
              "      <th>gdp_for_year ($)</th>\n",
              "      <th>gdp_per_capita ($)</th>\n",
              "      <th>generation</th>\n",
              "    </tr>\n",
              "  </thead>\n",
              "  <tbody>\n",
              "    <tr>\n",
              "      <th>0</th>\n",
              "      <td>Albania</td>\n",
              "      <td>1987</td>\n",
              "      <td>male</td>\n",
              "      <td>15-24 years</td>\n",
              "      <td>21</td>\n",
              "      <td>312900</td>\n",
              "      <td>6.71</td>\n",
              "      <td>Albania1987</td>\n",
              "      <td>NaN</td>\n",
              "      <td>2,156,624,900</td>\n",
              "      <td>796</td>\n",
              "      <td>Generation X</td>\n",
              "    </tr>\n",
              "    <tr>\n",
              "      <th>1</th>\n",
              "      <td>Albania</td>\n",
              "      <td>1987</td>\n",
              "      <td>male</td>\n",
              "      <td>35-54 years</td>\n",
              "      <td>16</td>\n",
              "      <td>308000</td>\n",
              "      <td>5.19</td>\n",
              "      <td>Albania1987</td>\n",
              "      <td>NaN</td>\n",
              "      <td>2,156,624,900</td>\n",
              "      <td>796</td>\n",
              "      <td>Silent</td>\n",
              "    </tr>\n",
              "    <tr>\n",
              "      <th>2</th>\n",
              "      <td>Albania</td>\n",
              "      <td>1987</td>\n",
              "      <td>female</td>\n",
              "      <td>15-24 years</td>\n",
              "      <td>14</td>\n",
              "      <td>289700</td>\n",
              "      <td>4.83</td>\n",
              "      <td>Albania1987</td>\n",
              "      <td>NaN</td>\n",
              "      <td>2,156,624,900</td>\n",
              "      <td>796</td>\n",
              "      <td>Generation X</td>\n",
              "    </tr>\n",
              "  </tbody>\n",
              "</table>\n",
              "</div>\n",
              "      <button class=\"colab-df-convert\" onclick=\"convertToInteractive('df-e1efd867-f06b-4114-bde2-5123649ae0e3')\"\n",
              "              title=\"Convert this dataframe to an interactive table.\"\n",
              "              style=\"display:none;\">\n",
              "        \n",
              "  <svg xmlns=\"http://www.w3.org/2000/svg\" height=\"24px\"viewBox=\"0 0 24 24\"\n",
              "       width=\"24px\">\n",
              "    <path d=\"M0 0h24v24H0V0z\" fill=\"none\"/>\n",
              "    <path d=\"M18.56 5.44l.94 2.06.94-2.06 2.06-.94-2.06-.94-.94-2.06-.94 2.06-2.06.94zm-11 1L8.5 8.5l.94-2.06 2.06-.94-2.06-.94L8.5 2.5l-.94 2.06-2.06.94zm10 10l.94 2.06.94-2.06 2.06-.94-2.06-.94-.94-2.06-.94 2.06-2.06.94z\"/><path d=\"M17.41 7.96l-1.37-1.37c-.4-.4-.92-.59-1.43-.59-.52 0-1.04.2-1.43.59L10.3 9.45l-7.72 7.72c-.78.78-.78 2.05 0 2.83L4 21.41c.39.39.9.59 1.41.59.51 0 1.02-.2 1.41-.59l7.78-7.78 2.81-2.81c.8-.78.8-2.07 0-2.86zM5.41 20L4 18.59l7.72-7.72 1.47 1.35L5.41 20z\"/>\n",
              "  </svg>\n",
              "      </button>\n",
              "      \n",
              "  <style>\n",
              "    .colab-df-container {\n",
              "      display:flex;\n",
              "      flex-wrap:wrap;\n",
              "      gap: 12px;\n",
              "    }\n",
              "\n",
              "    .colab-df-convert {\n",
              "      background-color: #E8F0FE;\n",
              "      border: none;\n",
              "      border-radius: 50%;\n",
              "      cursor: pointer;\n",
              "      display: none;\n",
              "      fill: #1967D2;\n",
              "      height: 32px;\n",
              "      padding: 0 0 0 0;\n",
              "      width: 32px;\n",
              "    }\n",
              "\n",
              "    .colab-df-convert:hover {\n",
              "      background-color: #E2EBFA;\n",
              "      box-shadow: 0px 1px 2px rgba(60, 64, 67, 0.3), 0px 1px 3px 1px rgba(60, 64, 67, 0.15);\n",
              "      fill: #174EA6;\n",
              "    }\n",
              "\n",
              "    [theme=dark] .colab-df-convert {\n",
              "      background-color: #3B4455;\n",
              "      fill: #D2E3FC;\n",
              "    }\n",
              "\n",
              "    [theme=dark] .colab-df-convert:hover {\n",
              "      background-color: #434B5C;\n",
              "      box-shadow: 0px 1px 3px 1px rgba(0, 0, 0, 0.15);\n",
              "      filter: drop-shadow(0px 1px 2px rgba(0, 0, 0, 0.3));\n",
              "      fill: #FFFFFF;\n",
              "    }\n",
              "  </style>\n",
              "\n",
              "      <script>\n",
              "        const buttonEl =\n",
              "          document.querySelector('#df-e1efd867-f06b-4114-bde2-5123649ae0e3 button.colab-df-convert');\n",
              "        buttonEl.style.display =\n",
              "          google.colab.kernel.accessAllowed ? 'block' : 'none';\n",
              "\n",
              "        async function convertToInteractive(key) {\n",
              "          const element = document.querySelector('#df-e1efd867-f06b-4114-bde2-5123649ae0e3');\n",
              "          const dataTable =\n",
              "            await google.colab.kernel.invokeFunction('convertToInteractive',\n",
              "                                                     [key], {});\n",
              "          if (!dataTable) return;\n",
              "\n",
              "          const docLinkHtml = 'Like what you see? Visit the ' +\n",
              "            '<a target=\"_blank\" href=https://colab.research.google.com/notebooks/data_table.ipynb>data table notebook</a>'\n",
              "            + ' to learn more about interactive tables.';\n",
              "          element.innerHTML = '';\n",
              "          dataTable['output_type'] = 'display_data';\n",
              "          await google.colab.output.renderOutput(dataTable, element);\n",
              "          const docLink = document.createElement('div');\n",
              "          docLink.innerHTML = docLinkHtml;\n",
              "          element.appendChild(docLink);\n",
              "        }\n",
              "      </script>\n",
              "    </div>\n",
              "  </div>\n",
              "  "
            ]
          },
          "metadata": {},
          "execution_count": 6
        }
      ],
      "source": [
        "df_temp = pd.read_csv(\"./suicide-rates-overview.csv\")\n",
        "df_temp.head(3)"
      ]
    },
    {
      "cell_type": "code",
      "execution_count": 7,
      "metadata": {
        "colab": {
          "base_uri": "https://localhost:8080/",
          "height": 206
        },
        "id": "MlmGytvYehjF",
        "outputId": "b3f2dc48-4ddb-452b-d0cd-118bd3aab110"
      },
      "outputs": [
        {
          "output_type": "execute_result",
          "data": {
            "text/plain": [
              "   country  year     sex          age  suicides_no  population country-year  \\\n",
              "0  Albania  1987    male  15-24 years           21      312900  Albania1987   \n",
              "1  Albania  1987    male  35-54 years           16      308000  Albania1987   \n",
              "2  Albania  1987  female  15-24 years           14      289700  Albania1987   \n",
              "3  Albania  1987    male    75+ years            1       21800  Albania1987   \n",
              "4  Albania  1987    male  25-34 years            9      274300  Albania1987   \n",
              "\n",
              "   HDI for year  gdp_for_year ($)   gdp_per_capita ($)       generation  \n",
              "0           NaN      2,156,624,900                 796     Generation X  \n",
              "1           NaN      2,156,624,900                 796           Silent  \n",
              "2           NaN      2,156,624,900                 796     Generation X  \n",
              "3           NaN      2,156,624,900                 796  G.I. Generation  \n",
              "4           NaN      2,156,624,900                 796          Boomers  "
            ],
            "text/html": [
              "\n",
              "  <div id=\"df-8e435d4c-24e7-47e9-8a68-94970ce2963d\">\n",
              "    <div class=\"colab-df-container\">\n",
              "      <div>\n",
              "<style scoped>\n",
              "    .dataframe tbody tr th:only-of-type {\n",
              "        vertical-align: middle;\n",
              "    }\n",
              "\n",
              "    .dataframe tbody tr th {\n",
              "        vertical-align: top;\n",
              "    }\n",
              "\n",
              "    .dataframe thead th {\n",
              "        text-align: right;\n",
              "    }\n",
              "</style>\n",
              "<table border=\"1\" class=\"dataframe\">\n",
              "  <thead>\n",
              "    <tr style=\"text-align: right;\">\n",
              "      <th></th>\n",
              "      <th>country</th>\n",
              "      <th>year</th>\n",
              "      <th>sex</th>\n",
              "      <th>age</th>\n",
              "      <th>suicides_no</th>\n",
              "      <th>population</th>\n",
              "      <th>country-year</th>\n",
              "      <th>HDI for year</th>\n",
              "      <th>gdp_for_year ($)</th>\n",
              "      <th>gdp_per_capita ($)</th>\n",
              "      <th>generation</th>\n",
              "    </tr>\n",
              "  </thead>\n",
              "  <tbody>\n",
              "    <tr>\n",
              "      <th>0</th>\n",
              "      <td>Albania</td>\n",
              "      <td>1987</td>\n",
              "      <td>male</td>\n",
              "      <td>15-24 years</td>\n",
              "      <td>21</td>\n",
              "      <td>312900</td>\n",
              "      <td>Albania1987</td>\n",
              "      <td>NaN</td>\n",
              "      <td>2,156,624,900</td>\n",
              "      <td>796</td>\n",
              "      <td>Generation X</td>\n",
              "    </tr>\n",
              "    <tr>\n",
              "      <th>1</th>\n",
              "      <td>Albania</td>\n",
              "      <td>1987</td>\n",
              "      <td>male</td>\n",
              "      <td>35-54 years</td>\n",
              "      <td>16</td>\n",
              "      <td>308000</td>\n",
              "      <td>Albania1987</td>\n",
              "      <td>NaN</td>\n",
              "      <td>2,156,624,900</td>\n",
              "      <td>796</td>\n",
              "      <td>Silent</td>\n",
              "    </tr>\n",
              "    <tr>\n",
              "      <th>2</th>\n",
              "      <td>Albania</td>\n",
              "      <td>1987</td>\n",
              "      <td>female</td>\n",
              "      <td>15-24 years</td>\n",
              "      <td>14</td>\n",
              "      <td>289700</td>\n",
              "      <td>Albania1987</td>\n",
              "      <td>NaN</td>\n",
              "      <td>2,156,624,900</td>\n",
              "      <td>796</td>\n",
              "      <td>Generation X</td>\n",
              "    </tr>\n",
              "    <tr>\n",
              "      <th>3</th>\n",
              "      <td>Albania</td>\n",
              "      <td>1987</td>\n",
              "      <td>male</td>\n",
              "      <td>75+ years</td>\n",
              "      <td>1</td>\n",
              "      <td>21800</td>\n",
              "      <td>Albania1987</td>\n",
              "      <td>NaN</td>\n",
              "      <td>2,156,624,900</td>\n",
              "      <td>796</td>\n",
              "      <td>G.I. Generation</td>\n",
              "    </tr>\n",
              "    <tr>\n",
              "      <th>4</th>\n",
              "      <td>Albania</td>\n",
              "      <td>1987</td>\n",
              "      <td>male</td>\n",
              "      <td>25-34 years</td>\n",
              "      <td>9</td>\n",
              "      <td>274300</td>\n",
              "      <td>Albania1987</td>\n",
              "      <td>NaN</td>\n",
              "      <td>2,156,624,900</td>\n",
              "      <td>796</td>\n",
              "      <td>Boomers</td>\n",
              "    </tr>\n",
              "  </tbody>\n",
              "</table>\n",
              "</div>\n",
              "      <button class=\"colab-df-convert\" onclick=\"convertToInteractive('df-8e435d4c-24e7-47e9-8a68-94970ce2963d')\"\n",
              "              title=\"Convert this dataframe to an interactive table.\"\n",
              "              style=\"display:none;\">\n",
              "        \n",
              "  <svg xmlns=\"http://www.w3.org/2000/svg\" height=\"24px\"viewBox=\"0 0 24 24\"\n",
              "       width=\"24px\">\n",
              "    <path d=\"M0 0h24v24H0V0z\" fill=\"none\"/>\n",
              "    <path d=\"M18.56 5.44l.94 2.06.94-2.06 2.06-.94-2.06-.94-.94-2.06-.94 2.06-2.06.94zm-11 1L8.5 8.5l.94-2.06 2.06-.94-2.06-.94L8.5 2.5l-.94 2.06-2.06.94zm10 10l.94 2.06.94-2.06 2.06-.94-2.06-.94-.94-2.06-.94 2.06-2.06.94z\"/><path d=\"M17.41 7.96l-1.37-1.37c-.4-.4-.92-.59-1.43-.59-.52 0-1.04.2-1.43.59L10.3 9.45l-7.72 7.72c-.78.78-.78 2.05 0 2.83L4 21.41c.39.39.9.59 1.41.59.51 0 1.02-.2 1.41-.59l7.78-7.78 2.81-2.81c.8-.78.8-2.07 0-2.86zM5.41 20L4 18.59l7.72-7.72 1.47 1.35L5.41 20z\"/>\n",
              "  </svg>\n",
              "      </button>\n",
              "      \n",
              "  <style>\n",
              "    .colab-df-container {\n",
              "      display:flex;\n",
              "      flex-wrap:wrap;\n",
              "      gap: 12px;\n",
              "    }\n",
              "\n",
              "    .colab-df-convert {\n",
              "      background-color: #E8F0FE;\n",
              "      border: none;\n",
              "      border-radius: 50%;\n",
              "      cursor: pointer;\n",
              "      display: none;\n",
              "      fill: #1967D2;\n",
              "      height: 32px;\n",
              "      padding: 0 0 0 0;\n",
              "      width: 32px;\n",
              "    }\n",
              "\n",
              "    .colab-df-convert:hover {\n",
              "      background-color: #E2EBFA;\n",
              "      box-shadow: 0px 1px 2px rgba(60, 64, 67, 0.3), 0px 1px 3px 1px rgba(60, 64, 67, 0.15);\n",
              "      fill: #174EA6;\n",
              "    }\n",
              "\n",
              "    [theme=dark] .colab-df-convert {\n",
              "      background-color: #3B4455;\n",
              "      fill: #D2E3FC;\n",
              "    }\n",
              "\n",
              "    [theme=dark] .colab-df-convert:hover {\n",
              "      background-color: #434B5C;\n",
              "      box-shadow: 0px 1px 3px 1px rgba(0, 0, 0, 0.15);\n",
              "      filter: drop-shadow(0px 1px 2px rgba(0, 0, 0, 0.3));\n",
              "      fill: #FFFFFF;\n",
              "    }\n",
              "  </style>\n",
              "\n",
              "      <script>\n",
              "        const buttonEl =\n",
              "          document.querySelector('#df-8e435d4c-24e7-47e9-8a68-94970ce2963d button.colab-df-convert');\n",
              "        buttonEl.style.display =\n",
              "          google.colab.kernel.accessAllowed ? 'block' : 'none';\n",
              "\n",
              "        async function convertToInteractive(key) {\n",
              "          const element = document.querySelector('#df-8e435d4c-24e7-47e9-8a68-94970ce2963d');\n",
              "          const dataTable =\n",
              "            await google.colab.kernel.invokeFunction('convertToInteractive',\n",
              "                                                     [key], {});\n",
              "          if (!dataTable) return;\n",
              "\n",
              "          const docLinkHtml = 'Like what you see? Visit the ' +\n",
              "            '<a target=\"_blank\" href=https://colab.research.google.com/notebooks/data_table.ipynb>data table notebook</a>'\n",
              "            + ' to learn more about interactive tables.';\n",
              "          element.innerHTML = '';\n",
              "          dataTable['output_type'] = 'display_data';\n",
              "          await google.colab.output.renderOutput(dataTable, element);\n",
              "          const docLink = document.createElement('div');\n",
              "          docLink.innerHTML = docLinkHtml;\n",
              "          element.appendChild(docLink);\n",
              "        }\n",
              "      </script>\n",
              "    </div>\n",
              "  </div>\n",
              "  "
            ]
          },
          "metadata": {},
          "execution_count": 7
        }
      ],
      "source": [
        "target = df_temp['suicides/100k pop']\n",
        "df = df_temp.drop('suicides/100k pop', axis=1)\n",
        "df.head()"
      ]
    },
    {
      "cell_type": "markdown",
      "metadata": {
        "id": "PADMvGH-xvAR"
      },
      "source": [
        "Обзор количественных признаков:"
      ]
    },
    {
      "cell_type": "code",
      "execution_count": 8,
      "metadata": {
        "colab": {
          "base_uri": "https://localhost:8080/",
          "height": 300
        },
        "id": "b7jSag27Eeht",
        "outputId": "1915591f-9451-4ee0-dad0-efcb337437e5"
      },
      "outputs": [
        {
          "output_type": "execute_result",
          "data": {
            "text/plain": [
              "               year   suicides_no    population  HDI for year  \\\n",
              "count  27820.000000  27820.000000  2.782000e+04   8364.000000   \n",
              "mean    2001.258375    242.574407  1.844794e+06      0.776601   \n",
              "std        8.469055    902.047917  3.911779e+06      0.093367   \n",
              "min     1985.000000      0.000000  2.780000e+02      0.483000   \n",
              "25%     1995.000000      3.000000  9.749850e+04      0.713000   \n",
              "50%     2002.000000     25.000000  4.301500e+05      0.779000   \n",
              "75%     2008.000000    131.000000  1.486143e+06      0.855000   \n",
              "max     2016.000000  22338.000000  4.380521e+07      0.944000   \n",
              "\n",
              "       gdp_per_capita ($)  \n",
              "count        27820.000000  \n",
              "mean         16866.464414  \n",
              "std          18887.576472  \n",
              "min            251.000000  \n",
              "25%           3447.000000  \n",
              "50%           9372.000000  \n",
              "75%          24874.000000  \n",
              "max         126352.000000  "
            ],
            "text/html": [
              "\n",
              "  <div id=\"df-e15b163c-df00-460a-ab17-e8a435bb066c\">\n",
              "    <div class=\"colab-df-container\">\n",
              "      <div>\n",
              "<style scoped>\n",
              "    .dataframe tbody tr th:only-of-type {\n",
              "        vertical-align: middle;\n",
              "    }\n",
              "\n",
              "    .dataframe tbody tr th {\n",
              "        vertical-align: top;\n",
              "    }\n",
              "\n",
              "    .dataframe thead th {\n",
              "        text-align: right;\n",
              "    }\n",
              "</style>\n",
              "<table border=\"1\" class=\"dataframe\">\n",
              "  <thead>\n",
              "    <tr style=\"text-align: right;\">\n",
              "      <th></th>\n",
              "      <th>year</th>\n",
              "      <th>suicides_no</th>\n",
              "      <th>population</th>\n",
              "      <th>HDI for year</th>\n",
              "      <th>gdp_per_capita ($)</th>\n",
              "    </tr>\n",
              "  </thead>\n",
              "  <tbody>\n",
              "    <tr>\n",
              "      <th>count</th>\n",
              "      <td>27820.000000</td>\n",
              "      <td>27820.000000</td>\n",
              "      <td>2.782000e+04</td>\n",
              "      <td>8364.000000</td>\n",
              "      <td>27820.000000</td>\n",
              "    </tr>\n",
              "    <tr>\n",
              "      <th>mean</th>\n",
              "      <td>2001.258375</td>\n",
              "      <td>242.574407</td>\n",
              "      <td>1.844794e+06</td>\n",
              "      <td>0.776601</td>\n",
              "      <td>16866.464414</td>\n",
              "    </tr>\n",
              "    <tr>\n",
              "      <th>std</th>\n",
              "      <td>8.469055</td>\n",
              "      <td>902.047917</td>\n",
              "      <td>3.911779e+06</td>\n",
              "      <td>0.093367</td>\n",
              "      <td>18887.576472</td>\n",
              "    </tr>\n",
              "    <tr>\n",
              "      <th>min</th>\n",
              "      <td>1985.000000</td>\n",
              "      <td>0.000000</td>\n",
              "      <td>2.780000e+02</td>\n",
              "      <td>0.483000</td>\n",
              "      <td>251.000000</td>\n",
              "    </tr>\n",
              "    <tr>\n",
              "      <th>25%</th>\n",
              "      <td>1995.000000</td>\n",
              "      <td>3.000000</td>\n",
              "      <td>9.749850e+04</td>\n",
              "      <td>0.713000</td>\n",
              "      <td>3447.000000</td>\n",
              "    </tr>\n",
              "    <tr>\n",
              "      <th>50%</th>\n",
              "      <td>2002.000000</td>\n",
              "      <td>25.000000</td>\n",
              "      <td>4.301500e+05</td>\n",
              "      <td>0.779000</td>\n",
              "      <td>9372.000000</td>\n",
              "    </tr>\n",
              "    <tr>\n",
              "      <th>75%</th>\n",
              "      <td>2008.000000</td>\n",
              "      <td>131.000000</td>\n",
              "      <td>1.486143e+06</td>\n",
              "      <td>0.855000</td>\n",
              "      <td>24874.000000</td>\n",
              "    </tr>\n",
              "    <tr>\n",
              "      <th>max</th>\n",
              "      <td>2016.000000</td>\n",
              "      <td>22338.000000</td>\n",
              "      <td>4.380521e+07</td>\n",
              "      <td>0.944000</td>\n",
              "      <td>126352.000000</td>\n",
              "    </tr>\n",
              "  </tbody>\n",
              "</table>\n",
              "</div>\n",
              "      <button class=\"colab-df-convert\" onclick=\"convertToInteractive('df-e15b163c-df00-460a-ab17-e8a435bb066c')\"\n",
              "              title=\"Convert this dataframe to an interactive table.\"\n",
              "              style=\"display:none;\">\n",
              "        \n",
              "  <svg xmlns=\"http://www.w3.org/2000/svg\" height=\"24px\"viewBox=\"0 0 24 24\"\n",
              "       width=\"24px\">\n",
              "    <path d=\"M0 0h24v24H0V0z\" fill=\"none\"/>\n",
              "    <path d=\"M18.56 5.44l.94 2.06.94-2.06 2.06-.94-2.06-.94-.94-2.06-.94 2.06-2.06.94zm-11 1L8.5 8.5l.94-2.06 2.06-.94-2.06-.94L8.5 2.5l-.94 2.06-2.06.94zm10 10l.94 2.06.94-2.06 2.06-.94-2.06-.94-.94-2.06-.94 2.06-2.06.94z\"/><path d=\"M17.41 7.96l-1.37-1.37c-.4-.4-.92-.59-1.43-.59-.52 0-1.04.2-1.43.59L10.3 9.45l-7.72 7.72c-.78.78-.78 2.05 0 2.83L4 21.41c.39.39.9.59 1.41.59.51 0 1.02-.2 1.41-.59l7.78-7.78 2.81-2.81c.8-.78.8-2.07 0-2.86zM5.41 20L4 18.59l7.72-7.72 1.47 1.35L5.41 20z\"/>\n",
              "  </svg>\n",
              "      </button>\n",
              "      \n",
              "  <style>\n",
              "    .colab-df-container {\n",
              "      display:flex;\n",
              "      flex-wrap:wrap;\n",
              "      gap: 12px;\n",
              "    }\n",
              "\n",
              "    .colab-df-convert {\n",
              "      background-color: #E8F0FE;\n",
              "      border: none;\n",
              "      border-radius: 50%;\n",
              "      cursor: pointer;\n",
              "      display: none;\n",
              "      fill: #1967D2;\n",
              "      height: 32px;\n",
              "      padding: 0 0 0 0;\n",
              "      width: 32px;\n",
              "    }\n",
              "\n",
              "    .colab-df-convert:hover {\n",
              "      background-color: #E2EBFA;\n",
              "      box-shadow: 0px 1px 2px rgba(60, 64, 67, 0.3), 0px 1px 3px 1px rgba(60, 64, 67, 0.15);\n",
              "      fill: #174EA6;\n",
              "    }\n",
              "\n",
              "    [theme=dark] .colab-df-convert {\n",
              "      background-color: #3B4455;\n",
              "      fill: #D2E3FC;\n",
              "    }\n",
              "\n",
              "    [theme=dark] .colab-df-convert:hover {\n",
              "      background-color: #434B5C;\n",
              "      box-shadow: 0px 1px 3px 1px rgba(0, 0, 0, 0.15);\n",
              "      filter: drop-shadow(0px 1px 2px rgba(0, 0, 0, 0.3));\n",
              "      fill: #FFFFFF;\n",
              "    }\n",
              "  </style>\n",
              "\n",
              "      <script>\n",
              "        const buttonEl =\n",
              "          document.querySelector('#df-e15b163c-df00-460a-ab17-e8a435bb066c button.colab-df-convert');\n",
              "        buttonEl.style.display =\n",
              "          google.colab.kernel.accessAllowed ? 'block' : 'none';\n",
              "\n",
              "        async function convertToInteractive(key) {\n",
              "          const element = document.querySelector('#df-e15b163c-df00-460a-ab17-e8a435bb066c');\n",
              "          const dataTable =\n",
              "            await google.colab.kernel.invokeFunction('convertToInteractive',\n",
              "                                                     [key], {});\n",
              "          if (!dataTable) return;\n",
              "\n",
              "          const docLinkHtml = 'Like what you see? Visit the ' +\n",
              "            '<a target=\"_blank\" href=https://colab.research.google.com/notebooks/data_table.ipynb>data table notebook</a>'\n",
              "            + ' to learn more about interactive tables.';\n",
              "          element.innerHTML = '';\n",
              "          dataTable['output_type'] = 'display_data';\n",
              "          await google.colab.output.renderOutput(dataTable, element);\n",
              "          const docLink = document.createElement('div');\n",
              "          docLink.innerHTML = docLinkHtml;\n",
              "          element.appendChild(docLink);\n",
              "        }\n",
              "      </script>\n",
              "    </div>\n",
              "  </div>\n",
              "  "
            ]
          },
          "metadata": {},
          "execution_count": 8
        }
      ],
      "source": [
        "df.describe()"
      ]
    },
    {
      "cell_type": "markdown",
      "metadata": {
        "id": "ADt_SLOyx5F7"
      },
      "source": [
        "Обзор номинативных признаков:"
      ]
    },
    {
      "cell_type": "code",
      "execution_count": 9,
      "metadata": {
        "colab": {
          "base_uri": "https://localhost:8080/"
        },
        "id": "kzIvtjocE9yT",
        "outputId": "f0085ad1-0799-4d25-a516-628d5fee3e6b"
      },
      "outputs": [
        {
          "output_type": "stream",
          "name": "stdout",
          "text": [
            "country\n",
            "\n",
            "Mauritius                 382\n",
            "Austria                   382\n",
            "Netherlands               382\n",
            "Iceland                   382\n",
            "Brazil                    372\n",
            "                         ... \n",
            "Bosnia and Herzegovina     24\n",
            "Cabo Verde                 12\n",
            "Dominica                   12\n",
            "Macau                      12\n",
            "Mongolia                   10\n",
            "Name: country, Length: 101, dtype: int64\n",
            "****************************************************************************************************\n",
            "\n",
            "sex\n",
            "\n",
            "male      13910\n",
            "female    13910\n",
            "Name: sex, dtype: int64\n",
            "****************************************************************************************************\n",
            "\n",
            "age\n",
            "\n",
            "15-24 years    4642\n",
            "35-54 years    4642\n",
            "75+ years      4642\n",
            "25-34 years    4642\n",
            "55-74 years    4642\n",
            "5-14 years     4610\n",
            "Name: age, dtype: int64\n",
            "****************************************************************************************************\n",
            "\n",
            "country-year\n",
            "\n",
            "Albania1987     12\n",
            "Poland1993      12\n",
            "Panama2009      12\n",
            "Panama2010      12\n",
            "Panama2011      12\n",
            "                ..\n",
            "Austria2016     10\n",
            "Croatia2016     10\n",
            "Hungary2016     10\n",
            "Armenia2016     10\n",
            "Mongolia2016    10\n",
            "Name: country-year, Length: 2321, dtype: int64\n",
            "****************************************************************************************************\n",
            "\n",
            " gdp_for_year ($) \n",
            "\n",
            "2,156,624,900      12\n",
            "96,045,645,026     12\n",
            "27,116,635,600     12\n",
            "29,440,287,600     12\n",
            "34,686,224,300     12\n",
            "                   ..\n",
            "390,799,991,147    10\n",
            "51,338,524,831     10\n",
            "125,816,640,421    10\n",
            "10,546,135,160     10\n",
            "11,183,458,131     10\n",
            "Name:  gdp_for_year ($) , Length: 2321, dtype: int64\n",
            "****************************************************************************************************\n",
            "\n",
            "generation\n",
            "\n",
            "Generation X       6408\n",
            "Silent             6364\n",
            "Millenials         5844\n",
            "Boomers            4990\n",
            "G.I. Generation    2744\n",
            "Generation Z       1470\n",
            "Name: generation, dtype: int64\n",
            "****************************************************************************************************\n",
            "\n"
          ]
        }
      ],
      "source": [
        "for cat_colname in df.select_dtypes(include='object').columns:\n",
        "    print(str(cat_colname) + '\\n\\n' + str(df[cat_colname].value_counts()) + '\\n' + '*' * 100 + '\\n')"
      ]
    },
    {
      "cell_type": "markdown",
      "metadata": {
        "id": "dkTZ9vftyCaz"
      },
      "source": [
        "Наличие пропусков в данных:"
      ]
    },
    {
      "cell_type": "code",
      "execution_count": 10,
      "metadata": {
        "colab": {
          "base_uri": "https://localhost:8080/"
        },
        "id": "zO63oDggiPrm",
        "outputId": "e940f7ff-c5f8-4b3c-b7b1-68fb44f4d01c"
      },
      "outputs": [
        {
          "output_type": "execute_result",
          "data": {
            "text/plain": [
              "country                   0\n",
              "year                      0\n",
              "sex                       0\n",
              "age                       0\n",
              "suicides_no               0\n",
              "population                0\n",
              "country-year              0\n",
              "HDI for year          19456\n",
              " gdp_for_year ($)         0\n",
              "gdp_per_capita ($)        0\n",
              "generation                0\n",
              "dtype: int64"
            ]
          },
          "metadata": {},
          "execution_count": 10
        }
      ],
      "source": [
        "df.isnull().sum()"
      ]
    },
    {
      "cell_type": "code",
      "execution_count": 11,
      "metadata": {
        "colab": {
          "base_uri": "https://localhost:8080/"
        },
        "id": "ZYZqNWVQfe3r",
        "outputId": "72b19ed3-e6b9-426e-d844-fc56a195a5af"
      },
      "outputs": [
        {
          "output_type": "execute_result",
          "data": {
            "text/plain": [
              "0"
            ]
          },
          "metadata": {},
          "execution_count": 11
        }
      ],
      "source": [
        "target.isnull().sum()"
      ]
    },
    {
      "cell_type": "markdown",
      "metadata": {
        "id": "zkYpYP4DBuNm"
      },
      "source": [
        "Разделим данные на train/test и сохраним тестовую выборку на диск:"
      ]
    },
    {
      "cell_type": "code",
      "execution_count": 12,
      "metadata": {
        "id": "-ioqNQTzKkZU"
      },
      "outputs": [],
      "source": [
        "# разделим данные на train/test\n",
        "X_train, X_test, y_train, y_test = train_test_split(df, target, random_state=42)\n",
        "\n",
        "# save test\n",
        "X_test.to_csv(\"X_test.csv\", index=None)\n",
        "y_test.to_csv(\"y_test.csv\", index=None)\n",
        "\n",
        "# save train\n",
        "X_train.to_csv(\"X_train.csv\", index=None)\n",
        "y_train.to_csv(\"y_train.csv\", index=None)"
      ]
    },
    {
      "cell_type": "code",
      "execution_count": 13,
      "metadata": {
        "id": "C5ljxB9lPnql"
      },
      "outputs": [],
      "source": [
        "# соберем наш простой pipeline, но нам понадобится написать класс для выбора нужного поля\n",
        "class FeatureSelector(BaseEstimator, TransformerMixin):\n",
        "    def __init__(self, column):\n",
        "        self.column = column\n",
        "\n",
        "    def fit(self, X, y=None):\n",
        "        return self\n",
        "\n",
        "    def transform(self, X, y=None):\n",
        "        return X[self.column]\n",
        "    \n",
        "class NumberSelector(BaseEstimator, TransformerMixin):\n",
        "    \"\"\"\n",
        "    Transformer to select a single column from the data frame to perform additional transformations on\n",
        "    Use on numeric columns in the data\n",
        "    \"\"\"\n",
        "    def __init__(self, key):\n",
        "        self.key = key\n",
        "\n",
        "    def fit(self, X, y=None):\n",
        "        return self\n",
        "\n",
        "    def transform(self, X):\n",
        "        return X[[self.key]]\n",
        "    \n",
        "\n",
        "class StrToNum():\n",
        "    def __init__(self, key):\n",
        "        self.key = key\n",
        "        self.columns = []\n",
        "\n",
        "    def fit(self, X, y=None):\n",
        "        self.columns = [col for col in X.columns]\n",
        "        return self\n",
        "\n",
        "    def transform(self, X):\n",
        "        temp = []\n",
        "        for i in X[self.key]:\n",
        "          str_1 = str_to_num(i)\n",
        "          temp.append(str_1)\n",
        "        X[self.key] = pd.DataFrame(data = temp, index = X.index)\n",
        "        return X[self.columns]\n",
        "\n",
        "\n",
        "class OHEEncoderBin(BaseEstimator, TransformerMixin):\n",
        "    def __init__(self, key):\n",
        "        self.key = key\n",
        "        self.columns = []\n",
        "\n",
        "    def fit(self, X, y=None):\n",
        "        B = [col for col in pd.get_dummies(X, prefix=self.key).columns]\n",
        "        self.columns = B[:1]\n",
        "        return self\n",
        "\n",
        "    def transform(self, X):\n",
        "        X = pd.get_dummies(X, prefix=self.key)\n",
        "    \n",
        "        return X[self.columns ]  \n",
        "\n",
        "\n",
        "class NumericPower(BaseEstimator, TransformerMixin):\n",
        "    def __init__(self, key, p = 2):\n",
        "        self.key = key\n",
        "        self.columns = []\n",
        "        self.p = p+1\n",
        "\n",
        "    def fit(self, X, y=None):\n",
        "        B = [self.key+str(i) for i in range(1,self.p) ]\n",
        "        self.columns = B+['log']\n",
        "        return self\n",
        "\n",
        "    def transform(self, X):\n",
        "        Xp = X.values.reshape(-1,1)\n",
        "        for i in range(2, self.p):\n",
        "            Xp = np.hstack([Xp,(X.values.reshape(-1,1) ** i).astype(float)])\n",
        "\n",
        "        Xp = np.hstack([Xp, np.log((X.values.reshape(-1,1) + 1).astype(float))])    \n",
        "        B = pd.DataFrame(data = Xp, index = X.index,columns =[self.columns] )\n",
        "        return B[self.columns ]   \n",
        "\n",
        "\n",
        "class MyOrdinalEncoder(TransformerMixin):\n",
        "    def __init__(self, *args, **kwargs):\n",
        "        self.encoder = OrdinalEncoder(*args, **kwargs)\n",
        "    def fit(self, x, y=0):\n",
        "        self.encoder.fit(x.values.reshape(-1,1))\n",
        "        return self\n",
        "    def transform(self, x, y=0):\n",
        "        return self.encoder.transform(x.values.reshape(-1,1))\n",
        "\n",
        "\n",
        "\n"
      ]
    },
    {
      "cell_type": "markdown",
      "metadata": {
        "id": "ujvg33CzYPph"
      },
      "source": [
        "Выделяем категориальные и численные колонки для различных предобработок:"
      ]
    },
    {
      "cell_type": "code",
      "execution_count": 14,
      "metadata": {
        "colab": {
          "base_uri": "https://localhost:8080/"
        },
        "id": "mZZ5eBTSV3Tl",
        "outputId": "6fb9b183-5797-499e-90a2-290b5fb8bc7e"
      },
      "outputs": [
        {
          "output_type": "execute_result",
          "data": {
            "text/plain": [
              "Index(['country', 'sex', 'age', 'country-year', ' gdp_for_year ($) ',\n",
              "       'generation'],\n",
              "      dtype='object')"
            ]
          },
          "metadata": {},
          "execution_count": 14
        }
      ],
      "source": [
        "df.select_dtypes(include='object').columns"
      ]
    },
    {
      "cell_type": "code",
      "execution_count": 15,
      "metadata": {
        "colab": {
          "base_uri": "https://localhost:8080/"
        },
        "id": "NcoC-YLqWURH",
        "outputId": "74e20c82-ceca-4449-aceb-17636edf5ede"
      },
      "outputs": [
        {
          "output_type": "execute_result",
          "data": {
            "text/plain": [
              "Index(['year', 'suicides_no', 'population', 'HDI for year',\n",
              "       'gdp_per_capita ($)'],\n",
              "      dtype='object')"
            ]
          },
          "metadata": {},
          "execution_count": 15
        }
      ],
      "source": [
        "df.select_dtypes(include=['int','float']).columns"
      ]
    },
    {
      "cell_type": "code",
      "execution_count": 16,
      "metadata": {
        "id": "CqXxiaXNVx2K"
      },
      "outputs": [],
      "source": [
        "categorical_columns = ['country', 'age', 'country-year', 'generation' ]\n",
        "continuous_columns = ['year', 'suicides_no', 'population', 'HDI for year', 'gdp_per_capita ($)']\n",
        "cat_to_cont_columns = [' gdp_for_year ($) ']\n",
        "categorical_bin_columns = ['sex']"
      ]
    },
    {
      "cell_type": "markdown",
      "metadata": {
        "id": "xVqfNHNFt4Ej"
      },
      "source": [
        "Создаем трансформеры:"
      ]
    },
    {
      "cell_type": "code",
      "execution_count": 17,
      "metadata": {
        "id": "5XBAWzyQY7Va"
      },
      "outputs": [],
      "source": [
        "# под каждый признак создаём трансформер и объединяем их в список\n",
        "final_transformers = list()\n",
        "\n",
        "for cat_col in categorical_columns:\n",
        "    cat_transformer = Pipeline([\n",
        "                ('selector', FeatureSelector(column=cat_col)),\n",
        "                ('ohe', MyOrdinalEncoder())\n",
        "            ])\n",
        "    final_transformers.append((cat_col, cat_transformer))\n",
        "\n",
        "\n",
        "for cat_to_cont_col in cat_to_cont_columns:\n",
        "    cat_to_cont_transformer = Pipeline([\n",
        "                ('selector', NumberSelector(key=cat_to_cont_col)),\n",
        "                ('str_to_num', StrToNum(key=cat_to_cont_col))\n",
        "            ])\n",
        "    final_transformers.append((cat_to_cont_col, cat_to_cont_transformer))\n",
        "\n",
        "\n",
        "for cont_col in continuous_columns:\n",
        "    cont_transformer = Pipeline([\n",
        "                ('selector', NumberSelector(key=cont_col)),\n",
        "                ('pow_2', NumericPower(key=cont_col, p=3)),\n",
        "                ('Scale', StandardScaler())\n",
        "            ])\n",
        "    final_transformers.append((cont_col, cont_transformer))\n",
        "\n",
        "\n",
        "for bin_col in categorical_bin_columns:\n",
        "    bin_transformer = Pipeline([\n",
        "                ('selector', FeatureSelector(column=bin_col)),\n",
        "                ('ohe', OHEEncoderBin(key=bin_col))\n",
        "            ])\n",
        "    final_transformers.append((bin_col, bin_transformer))"
      ]
    },
    {
      "cell_type": "code",
      "execution_count": 18,
      "metadata": {
        "colab": {
          "base_uri": "https://localhost:8080/"
        },
        "id": "CtPu__u_qMBR",
        "outputId": "d3b8fe1d-c3ed-49d1-c6a5-63a42ea2bf93"
      },
      "outputs": [
        {
          "output_type": "execute_result",
          "data": {
            "text/plain": [
              "[('country', Pipeline(steps=[('selector', FeatureSelector(column='country')),\n",
              "                  ('ohe', <__main__.MyOrdinalEncoder object at 0x7f5a7a79cf90>)])),\n",
              " ('age', Pipeline(steps=[('selector', FeatureSelector(column='age')),\n",
              "                  ('ohe', <__main__.MyOrdinalEncoder object at 0x7f5a7a7a70d0>)])),\n",
              " ('country-year',\n",
              "  Pipeline(steps=[('selector', FeatureSelector(column='country-year')),\n",
              "                  ('ohe', <__main__.MyOrdinalEncoder object at 0x7f5a7a7a71d0>)])),\n",
              " ('generation',\n",
              "  Pipeline(steps=[('selector', FeatureSelector(column='generation')),\n",
              "                  ('ohe', <__main__.MyOrdinalEncoder object at 0x7f5a7a7a72d0>)])),\n",
              " (' gdp_for_year ($) ',\n",
              "  Pipeline(steps=[('selector', NumberSelector(key=' gdp_for_year ($) ')),\n",
              "                  ('str_to_num', <__main__.StrToNum object at 0x7f5a7a7a73d0>)])),\n",
              " ('year', Pipeline(steps=[('selector', NumberSelector(key='year')),\n",
              "                  ('pow_2', NumericPower(key='year', p=4)),\n",
              "                  ('Scale', StandardScaler())])),\n",
              " ('suicides_no',\n",
              "  Pipeline(steps=[('selector', NumberSelector(key='suicides_no')),\n",
              "                  ('pow_2', NumericPower(key='suicides_no', p=4)),\n",
              "                  ('Scale', StandardScaler())])),\n",
              " ('population', Pipeline(steps=[('selector', NumberSelector(key='population')),\n",
              "                  ('pow_2', NumericPower(key='population', p=4)),\n",
              "                  ('Scale', StandardScaler())])),\n",
              " ('HDI for year',\n",
              "  Pipeline(steps=[('selector', NumberSelector(key='HDI for year')),\n",
              "                  ('pow_2', NumericPower(key='HDI for year', p=4)),\n",
              "                  ('Scale', StandardScaler())])),\n",
              " ('gdp_per_capita ($)',\n",
              "  Pipeline(steps=[('selector', NumberSelector(key='gdp_per_capita ($)')),\n",
              "                  ('pow_2', NumericPower(key='gdp_per_capita ($)', p=4)),\n",
              "                  ('Scale', StandardScaler())])),\n",
              " ('sex', Pipeline(steps=[('selector', FeatureSelector(column='sex')),\n",
              "                  ('ohe', OHEEncoderBin(key='sex'))]))]"
            ]
          },
          "metadata": {},
          "execution_count": 18
        }
      ],
      "source": [
        "final_transformers"
      ]
    },
    {
      "cell_type": "code",
      "execution_count": 19,
      "metadata": {
        "id": "aZIWxj9bSznO"
      },
      "outputs": [],
      "source": [
        "feats = FeatureUnion(final_transformers)\n",
        "\n",
        "pipeline = Pipeline([\n",
        "    ('features', feats),\n",
        "    ('imputer', SimpleImputer(missing_values=np.nan, strategy='most_frequent')),\n",
        "    ('regressor', GradientBoostingRegressor(criterion='squared_error',\n",
        "                                             max_depth=7,\n",
        "                                             min_samples_leaf=10,\n",
        "                                             random_state=42,  \n",
        "                                             n_estimators=100))\n",
        "])"
      ]
    },
    {
      "cell_type": "code",
      "execution_count": 20,
      "metadata": {
        "colab": {
          "base_uri": "https://localhost:8080/"
        },
        "id": "FRUGusY5w8wD",
        "outputId": "d1e79a30-a22c-48b5-caf0-395336c08c51"
      },
      "outputs": [
        {
          "output_type": "execute_result",
          "data": {
            "text/plain": [
              "Pipeline(steps=[('features',\n",
              "                 FeatureUnion(transformer_list=[('country',\n",
              "                                                 Pipeline(steps=[('selector',\n",
              "                                                                  FeatureSelector(column='country')),\n",
              "                                                                 ('ohe',\n",
              "                                                                  <__main__.MyOrdinalEncoder object at 0x7f5a7a79cf90>)])),\n",
              "                                                ('age',\n",
              "                                                 Pipeline(steps=[('selector',\n",
              "                                                                  FeatureSelector(column='age')),\n",
              "                                                                 ('ohe',\n",
              "                                                                  <__main__.MyOrdinalEncoder object at 0x7f5a7a7a70d0>)])),\n",
              "                                                ('country-year',\n",
              "                                                 Pipeline(step...\n",
              "                                                                 ('pow_2',\n",
              "                                                                  NumericPower(key='gdp_per_capita '\n",
              "                                                                                   '($)',\n",
              "                                                                               p=4)),\n",
              "                                                                 ('Scale',\n",
              "                                                                  StandardScaler())])),\n",
              "                                                ('sex',\n",
              "                                                 Pipeline(steps=[('selector',\n",
              "                                                                  FeatureSelector(column='sex')),\n",
              "                                                                 ('ohe',\n",
              "                                                                  OHEEncoderBin(key='sex'))]))])),\n",
              "                ('imputer', SimpleImputer(strategy='most_frequent')),\n",
              "                ('regressor',\n",
              "                 GradientBoostingRegressor(criterion='squared_error',\n",
              "                                           max_depth=7, min_samples_leaf=10,\n",
              "                                           random_state=42))])"
            ]
          },
          "metadata": {},
          "execution_count": 20
        }
      ],
      "source": [
        "# обучим наш пайплайн\n",
        "pipeline.fit(X_train, y_train)"
      ]
    },
    {
      "cell_type": "code",
      "execution_count": 21,
      "metadata": {
        "colab": {
          "base_uri": "https://localhost:8080/"
        },
        "id": "6frGIUipCGx5",
        "outputId": "39cf858c-4e26-4873-e51b-9ad18e765eda"
      },
      "outputs": [
        {
          "output_type": "execute_result",
          "data": {
            "text/plain": [
              "array([ 1.0843193 ,  5.12152827,  1.84788655, ...,  3.48456513,\n",
              "       -0.00834394,  6.52597152])"
            ]
          },
          "metadata": {},
          "execution_count": 21
        }
      ],
      "source": [
        "# наши прогнозы для обучающей выборки\n",
        "preds_train = pipeline.predict(X_train)\n",
        "preds_train"
      ]
    },
    {
      "cell_type": "code",
      "execution_count": 22,
      "metadata": {
        "colab": {
          "base_uri": "https://localhost:8080/",
          "height": 566
        },
        "id": "tlxgJad4Ch1V",
        "outputId": "810d1c68-1f4d-4f8a-ba35-70218b52ad84"
      },
      "outputs": [
        {
          "output_type": "stream",
          "name": "stdout",
          "text": [
            "R2:\t0.997\n",
            "RMSE:\t1.046\n",
            "MSE:\t1.094\n"
          ]
        },
        {
          "output_type": "display_data",
          "data": {
            "text/plain": [
              "<Figure size 576x576 with 1 Axes>"
            ],
            "image/png": "[encoded data removed]"
          },
          "metadata": {
            "needs_background": "light"
          }
        }
      ],
      "source": [
        "evaluate_preds(y_train, preds_train)"
      ]
    },
    {
      "cell_type": "code",
      "execution_count": 23,
      "metadata": {
        "colab": {
          "base_uri": "https://localhost:8080/"
        },
        "id": "ySMT1h93dIkh",
        "outputId": "d01f23ec-a814-4a89-9747-efb0a82548db"
      },
      "outputs": [
        {
          "output_type": "execute_result",
          "data": {
            "text/plain": [
              "array([ 0.06259929, 13.58667535,  2.79105635, ..., 13.80027376,\n",
              "        5.30690773, 30.50460443])"
            ]
          },
          "metadata": {},
          "execution_count": 23
        }
      ],
      "source": [
        "# наши прогнозы для тестовой выборки\n",
        "preds_test = pipeline.predict(X_test)\n",
        "preds_test"
      ]
    },
    {
      "cell_type": "code",
      "execution_count": 24,
      "metadata": {
        "colab": {
          "base_uri": "https://localhost:8080/",
          "height": 566
        },
        "id": "ML8S623ldxG1",
        "outputId": "83dd7d80-4059-4fd5-bc78-93774ddfd114"
      },
      "outputs": [
        {
          "output_type": "stream",
          "name": "stdout",
          "text": [
            "R2:\t0.992\n",
            "RMSE:\t1.634\n",
            "MSE:\t2.67\n"
          ]
        },
        {
          "output_type": "display_data",
          "data": {
            "text/plain": [
              "<Figure size 576x576 with 1 Axes>"
            ],
            "image/png": "[encoded data removed]"
          },
          "metadata": {
            "needs_background": "light"
          }
        }
      ],
      "source": [
        "evaluate_preds(y_test, preds_test)"
      ]
    },
    {
      "cell_type": "markdown",
      "metadata": {
        "id": "zCEhbdxiuOag"
      },
      "source": [
        "Выделяем признаки с наибольшим влиянием на обучение модели:"
      ]
    },
    {
      "cell_type": "code",
      "execution_count": 25,
      "metadata": {
        "colab": {
          "base_uri": "https://localhost:8080/"
        },
        "id": "r375xwrDjwLb",
        "outputId": "e03f53fc-d614-4fb8-8d73-40755bf30419"
      },
      "outputs": [
        {
          "output_type": "execute_result",
          "data": {
            "text/plain": [
              "array([1.20209942e-03, 8.45804732e-03, 2.94411416e-03, 8.23854045e-05,\n",
              "       4.64873812e-03, 9.56792181e-05, 1.36134262e-04, 5.89816340e-05,\n",
              "       9.13909555e-05, 9.43465140e-02, 1.85744130e-01, 5.89145854e-02,\n",
              "       1.20019626e-01, 1.38010928e-01, 1.08697309e-01, 2.11808761e-02,\n",
              "       1.91528387e-01, 2.39992862e-16, 1.11759899e-17, 1.36583634e-07,\n",
              "       1.08689402e-05, 3.14389237e-04, 5.23519339e-04, 1.61724386e-03,\n",
              "       4.14474681e-03, 5.72291691e-02])"
            ]
          },
          "metadata": {},
          "execution_count": 25
        }
      ],
      "source": [
        "pipeline['regressor'].feature_importances_"
      ]
    },
    {
      "cell_type": "code",
      "execution_count": 26,
      "metadata": {
        "colab": {
          "base_uri": "https://localhost:8080/",
          "height": 143
        },
        "id": "7t74GcVQeazi",
        "outputId": "3ff1c241-5f38-4df5-8247-fc13efa15b4c"
      },
      "outputs": [
        {
          "output_type": "execute_result",
          "data": {
            "text/plain": [
              "          feature_name  importance\n",
              "10          generation    0.185744\n",
              "9   gdp_per_capita ($)    0.094347\n",
              "1                 year    0.008458"
            ],
            "text/html": [
              "\n",
              "  <div id=\"df-a02592f4-4c2b-46f3-b061-afc9987d0f0f\">\n",
              "    <div class=\"colab-df-container\">\n",
              "      <div>\n",
              "<style scoped>\n",
              "    .dataframe tbody tr th:only-of-type {\n",
              "        vertical-align: middle;\n",
              "    }\n",
              "\n",
              "    .dataframe tbody tr th {\n",
              "        vertical-align: top;\n",
              "    }\n",
              "\n",
              "    .dataframe thead th {\n",
              "        text-align: right;\n",
              "    }\n",
              "</style>\n",
              "<table border=\"1\" class=\"dataframe\">\n",
              "  <thead>\n",
              "    <tr style=\"text-align: right;\">\n",
              "      <th></th>\n",
              "      <th>feature_name</th>\n",
              "      <th>importance</th>\n",
              "    </tr>\n",
              "  </thead>\n",
              "  <tbody>\n",
              "    <tr>\n",
              "      <th>10</th>\n",
              "      <td>generation</td>\n",
              "      <td>0.185744</td>\n",
              "    </tr>\n",
              "    <tr>\n",
              "      <th>9</th>\n",
              "      <td>gdp_per_capita ($)</td>\n",
              "      <td>0.094347</td>\n",
              "    </tr>\n",
              "    <tr>\n",
              "      <th>1</th>\n",
              "      <td>year</td>\n",
              "      <td>0.008458</td>\n",
              "    </tr>\n",
              "  </tbody>\n",
              "</table>\n",
              "</div>\n",
              "      <button class=\"colab-df-convert\" onclick=\"convertToInteractive('df-a02592f4-4c2b-46f3-b061-afc9987d0f0f')\"\n",
              "              title=\"Convert this dataframe to an interactive table.\"\n",
              "              style=\"display:none;\">\n",
              "        \n",
              "  <svg xmlns=\"http://www.w3.org/2000/svg\" height=\"24px\"viewBox=\"0 0 24 24\"\n",
              "       width=\"24px\">\n",
              "    <path d=\"M0 0h24v24H0V0z\" fill=\"none\"/>\n",
              "    <path d=\"M18.56 5.44l.94 2.06.94-2.06 2.06-.94-2.06-.94-.94-2.06-.94 2.06-2.06.94zm-11 1L8.5 8.5l.94-2.06 2.06-.94-2.06-.94L8.5 2.5l-.94 2.06-2.06.94zm10 10l.94 2.06.94-2.06 2.06-.94-2.06-.94-.94-2.06-.94 2.06-2.06.94z\"/><path d=\"M17.41 7.96l-1.37-1.37c-.4-.4-.92-.59-1.43-.59-.52 0-1.04.2-1.43.59L10.3 9.45l-7.72 7.72c-.78.78-.78 2.05 0 2.83L4 21.41c.39.39.9.59 1.41.59.51 0 1.02-.2 1.41-.59l7.78-7.78 2.81-2.81c.8-.78.8-2.07 0-2.86zM5.41 20L4 18.59l7.72-7.72 1.47 1.35L5.41 20z\"/>\n",
              "  </svg>\n",
              "      </button>\n",
              "      \n",
              "  <style>\n",
              "    .colab-df-container {\n",
              "      display:flex;\n",
              "      flex-wrap:wrap;\n",
              "      gap: 12px;\n",
              "    }\n",
              "\n",
              "    .colab-df-convert {\n",
              "      background-color: #E8F0FE;\n",
              "      border: none;\n",
              "      border-radius: 50%;\n",
              "      cursor: pointer;\n",
              "      display: none;\n",
              "      fill: #1967D2;\n",
              "      height: 32px;\n",
              "      padding: 0 0 0 0;\n",
              "      width: 32px;\n",
              "    }\n",
              "\n",
              "    .colab-df-convert:hover {\n",
              "      background-color: #E2EBFA;\n",
              "      box-shadow: 0px 1px 2px rgba(60, 64, 67, 0.3), 0px 1px 3px 1px rgba(60, 64, 67, 0.15);\n",
              "      fill: #174EA6;\n",
              "    }\n",
              "\n",
              "    [theme=dark] .colab-df-convert {\n",
              "      background-color: #3B4455;\n",
              "      fill: #D2E3FC;\n",
              "    }\n",
              "\n",
              "    [theme=dark] .colab-df-convert:hover {\n",
              "      background-color: #434B5C;\n",
              "      box-shadow: 0px 1px 3px 1px rgba(0, 0, 0, 0.15);\n",
              "      filter: drop-shadow(0px 1px 2px rgba(0, 0, 0, 0.3));\n",
              "      fill: #FFFFFF;\n",
              "    }\n",
              "  </style>\n",
              "\n",
              "      <script>\n",
              "        const buttonEl =\n",
              "          document.querySelector('#df-a02592f4-4c2b-46f3-b061-afc9987d0f0f button.colab-df-convert');\n",
              "        buttonEl.style.display =\n",
              "          google.colab.kernel.accessAllowed ? 'block' : 'none';\n",
              "\n",
              "        async function convertToInteractive(key) {\n",
              "          const element = document.querySelector('#df-a02592f4-4c2b-46f3-b061-afc9987d0f0f');\n",
              "          const dataTable =\n",
              "            await google.colab.kernel.invokeFunction('convertToInteractive',\n",
              "                                                     [key], {});\n",
              "          if (!dataTable) return;\n",
              "\n",
              "          const docLinkHtml = 'Like what you see? Visit the ' +\n",
              "            '<a target=\"_blank\" href=https://colab.research.google.com/notebooks/data_table.ipynb>data table notebook</a>'\n",
              "            + ' to learn more about interactive tables.';\n",
              "          element.innerHTML = '';\n",
              "          dataTable['output_type'] = 'display_data';\n",
              "          await google.colab.output.renderOutput(dataTable, element);\n",
              "          const docLink = document.createElement('div');\n",
              "          docLink.innerHTML = docLinkHtml;\n",
              "          element.appendChild(docLink);\n",
              "        }\n",
              "      </script>\n",
              "    </div>\n",
              "  </div>\n",
              "  "
            ]
          },
          "metadata": {},
          "execution_count": 26
        }
      ],
      "source": [
        "feature_importances = pd.DataFrame(zip(X_train.columns, \n",
        "                                       pipeline['regressor'].feature_importances_), \n",
        "                                       columns=['feature_name', 'importance'])\n",
        "\n",
        "feature_importances.sort_values(by='importance', ascending=False, inplace=True)\n",
        "\n",
        "feature_importances.head(3)"
      ]
    },
    {
      "cell_type": "code",
      "execution_count": 27,
      "metadata": {
        "id": "V6OyBrIT3vMz"
      },
      "outputs": [],
      "source": [
        "features = ['generation', 'gdp_per_capita ($)', 'year']\n",
        "target = target"
      ]
    },
    {
      "cell_type": "markdown",
      "metadata": {
        "id": "EQnJ4FDP4qzZ"
      },
      "source": [
        "Соберем кусок, ответственный за feature engineering:"
      ]
    },
    {
      "cell_type": "code",
      "execution_count": 28,
      "metadata": {
        "id": "NALAkKSJ5AMT"
      },
      "outputs": [],
      "source": [
        "# combine\n",
        "generation = Pipeline([\n",
        "                ('selector', FeatureSelector(column='generation')),\n",
        "                ('ohe', MyOrdinalEncoder())\n",
        "            ])\n",
        "\n",
        "gdp_per_capita = Pipeline([\n",
        "                ('selector', NumberSelector(key='gdp_per_capita ($)')),\n",
        "                ('pow_2', NumericPower(key='gdp_per_capita ($)', p=3)),\n",
        "                ('Scale', StandardScaler())\n",
        "            ])\n",
        "\n",
        "year = Pipeline([\n",
        "                ('selector', NumberSelector(key='year')),\n",
        "                ('pow_2', NumericPower(key='year', p=3)),\n",
        "                ('Scale', StandardScaler())\n",
        "            ])\n",
        "\n",
        "\n",
        "feats_1 = FeatureUnion([('generation', generation),\n",
        "                      ('gdp_per_capita ($)', gdp_per_capita),\n",
        "                      ('year', year)])"
      ]
    },
    {
      "cell_type": "markdown",
      "metadata": {
        "id": "7XD0_FSW7zze"
      },
      "source": [
        "Добавим регрессор:"
      ]
    },
    {
      "cell_type": "code",
      "execution_count": 29,
      "metadata": {
        "colab": {
          "base_uri": "https://localhost:8080/"
        },
        "id": "PSCbLSLk77u7",
        "outputId": "6e253b41-80c9-479d-9be1-523364c4ed56"
      },
      "outputs": [
        {
          "output_type": "stream",
          "name": "stdout",
          "text": [
            "CPU times: user 7.65 s, sys: 19.2 ms, total: 7.66 s\n",
            "Wall time: 7.67 s\n"
          ]
        }
      ],
      "source": [
        "%%time\n",
        "\n",
        "pipeline_1 = Pipeline([\n",
        "    ('features', feats_1),\n",
        "    ('imputer', SimpleImputer(missing_values=np.nan, strategy='most_frequent')),\n",
        "    ('regressor', GradientBoostingRegressor(criterion='squared_error',\n",
        "                                             max_depth=7,\n",
        "                                             min_samples_leaf=10,\n",
        "                                             random_state=42,  \n",
        "                                             n_estimators=100))\n",
        "])\n",
        "\n",
        "pipeline_1.fit(X_train, y_train)"
      ]
    },
    {
      "cell_type": "markdown",
      "metadata": {
        "id": "ZyZM2MfN_UBf"
      },
      "source": [
        "Посмотрим, как выглядит наш pipeline:"
      ]
    },
    {
      "cell_type": "code",
      "execution_count": 30,
      "metadata": {
        "colab": {
          "base_uri": "https://localhost:8080/"
        },
        "id": "M7D8K2f4_VWt",
        "outputId": "030f823d-8e1b-4dcc-aa35-70fa5cef6bb4"
      },
      "outputs": [
        {
          "output_type": "execute_result",
          "data": {
            "text/plain": [
              "[('features', FeatureUnion(transformer_list=[('generation',\n",
              "                                  Pipeline(steps=[('selector',\n",
              "                                                   FeatureSelector(column='generation')),\n",
              "                                                  ('ohe',\n",
              "                                                   <__main__.MyOrdinalEncoder object at 0x7f5a7a2e4fd0>)])),\n",
              "                                 ('gdp_per_capita ($)',\n",
              "                                  Pipeline(steps=[('selector',\n",
              "                                                   NumberSelector(key='gdp_per_capita '\n",
              "                                                                      '($)')),\n",
              "                                                  ('pow_2',\n",
              "                                                   NumericPower(key='gdp_per_capita '\n",
              "                                                                    '($)',\n",
              "                                                                p=4)),\n",
              "                                                  ('Scale', StandardScaler())])),\n",
              "                                 ('year',\n",
              "                                  Pipeline(steps=[('selector',\n",
              "                                                   NumberSelector(key='year')),\n",
              "                                                  ('pow_2',\n",
              "                                                   NumericPower(key='year', p=4)),\n",
              "                                                  ('Scale', StandardScaler())]))])),\n",
              " ('imputer', SimpleImputer(strategy='most_frequent')),\n",
              " ('regressor',\n",
              "  GradientBoostingRegressor(criterion='squared_error', max_depth=7,\n",
              "                            min_samples_leaf=10, random_state=42))]"
            ]
          },
          "metadata": {},
          "execution_count": 30
        }
      ],
      "source": [
        "pipeline_1.steps"
      ]
    },
    {
      "cell_type": "markdown",
      "metadata": {
        "id": "7G5CO7oWAacv"
      },
      "source": [
        "Сохраним модель (пайплайн):"
      ]
    },
    {
      "cell_type": "code",
      "execution_count": 31,
      "metadata": {
        "id": "OqKH53qtAcdV"
      },
      "outputs": [],
      "source": [
        "with open(\"gboostreg_pipeline.dill\", \"wb\") as f:\n",
        "    dill.dump(pipeline_1, f)"
      ]
    },
    {
      "cell_type": "markdown",
      "metadata": {
        "id": "FZZ8yYj7BGXL"
      },
      "source": [
        "# Step 2 - PREDICT"
      ]
    },
    {
      "cell_type": "markdown",
      "metadata": {
        "id": "lVX0TxEPBUXk"
      },
      "source": [
        "### Проверка работоспособности и качества пайплайна\n",
        "\n",
        "Здесь мы еще не запускаем никакое API, а загружаем модель (pipeline) напрямую и проверяем на отложенной (тестовой) выборке"
      ]
    },
    {
      "cell_type": "code",
      "execution_count": 32,
      "metadata": {
        "id": "9VTW2bqIBIMa"
      },
      "outputs": [],
      "source": [
        "X_test = pd.read_csv(\"X_test.csv\")\n",
        "y_test = pd.read_csv(\"y_test.csv\")"
      ]
    },
    {
      "cell_type": "code",
      "execution_count": 33,
      "metadata": {
        "colab": {
          "base_uri": "https://localhost:8080/",
          "height": 319
        },
        "id": "GgI6ZEw8DBvO",
        "outputId": "a21e6e14-4e22-4dbd-9092-d7aeee1a675d"
      },
      "outputs": [
        {
          "output_type": "execute_result",
          "data": {
            "text/plain": [
              "                        country  year     sex          age  suicides_no  \\\n",
              "0                   Netherlands  2015    male   5-14 years            1   \n",
              "1                     Sri Lanka  2001  female    75+ years           31   \n",
              "2                   El Salvador  2013  female  35-54 years           19   \n",
              "3  Saint Vincent and Grenadines  1987  female    75+ years            0   \n",
              "4                    Costa Rica  2003  female    75+ years            0   \n",
              "\n",
              "   population                      country-year  HDI for year  \\\n",
              "0      987750                   Netherlands2015           NaN   \n",
              "1      222745                     Sri Lanka2001           NaN   \n",
              "2      748153                   El Salvador2013         0.664   \n",
              "3        1500  Saint Vincent and Grenadines1987           NaN   \n",
              "4       54020                    Costa Rica2003           NaN   \n",
              "\n",
              "   gdp_for_year ($)   gdp_per_capita ($)       generation  \n",
              "0    757,999,453,314               47206     Generation Z  \n",
              "1     15,749,753,805                 912           Silent  \n",
              "2     21,977,401,900                3885     Generation X  \n",
              "3        175,580,630                1908  G.I. Generation  \n",
              "4     17,195,867,540                4583           Silent  "
            ],
            "text/html": [
              "\n",
              "  <div id=\"df-bb0f73dc-68f5-416d-9a00-5e0351cfcb6c\">\n",
              "    <div class=\"colab-df-container\">\n",
              "      <div>\n",
              "<style scoped>\n",
              "    .dataframe tbody tr th:only-of-type {\n",
              "        vertical-align: middle;\n",
              "    }\n",
              "\n",
              "    .dataframe tbody tr th {\n",
              "        vertical-align: top;\n",
              "    }\n",
              "\n",
              "    .dataframe thead th {\n",
              "        text-align: right;\n",
              "    }\n",
              "</style>\n",
              "<table border=\"1\" class=\"dataframe\">\n",
              "  <thead>\n",
              "    <tr style=\"text-align: right;\">\n",
              "      <th></th>\n",
              "      <th>country</th>\n",
              "      <th>year</th>\n",
              "      <th>sex</th>\n",
              "      <th>age</th>\n",
              "      <th>suicides_no</th>\n",
              "      <th>population</th>\n",
              "      <th>country-year</th>\n",
              "      <th>HDI for year</th>\n",
              "      <th>gdp_for_year ($)</th>\n",
              "      <th>gdp_per_capita ($)</th>\n",
              "      <th>generation</th>\n",
              "    </tr>\n",
              "  </thead>\n",
              "  <tbody>\n",
              "    <tr>\n",
              "      <th>0</th>\n",
              "      <td>Netherlands</td>\n",
              "      <td>2015</td>\n",
              "      <td>male</td>\n",
              "      <td>5-14 years</td>\n",
              "      <td>1</td>\n",
              "      <td>987750</td>\n",
              "      <td>Netherlands2015</td>\n",
              "      <td>NaN</td>\n",
              "      <td>757,999,453,314</td>\n",
              "      <td>47206</td>\n",
              "      <td>Generation Z</td>\n",
              "    </tr>\n",
              "    <tr>\n",
              "      <th>1</th>\n",
              "      <td>Sri Lanka</td>\n",
              "      <td>2001</td>\n",
              "      <td>female</td>\n",
              "      <td>75+ years</td>\n",
              "      <td>31</td>\n",
              "      <td>222745</td>\n",
              "      <td>Sri Lanka2001</td>\n",
              "      <td>NaN</td>\n",
              "      <td>15,749,753,805</td>\n",
              "      <td>912</td>\n",
              "      <td>Silent</td>\n",
              "    </tr>\n",
              "    <tr>\n",
              "      <th>2</th>\n",
              "      <td>El Salvador</td>\n",
              "      <td>2013</td>\n",
              "      <td>female</td>\n",
              "      <td>35-54 years</td>\n",
              "      <td>19</td>\n",
              "      <td>748153</td>\n",
              "      <td>El Salvador2013</td>\n",
              "      <td>0.664</td>\n",
              "      <td>21,977,401,900</td>\n",
              "      <td>3885</td>\n",
              "      <td>Generation X</td>\n",
              "    </tr>\n",
              "    <tr>\n",
              "      <th>3</th>\n",
              "      <td>Saint Vincent and Grenadines</td>\n",
              "      <td>1987</td>\n",
              "      <td>female</td>\n",
              "      <td>75+ years</td>\n",
              "      <td>0</td>\n",
              "      <td>1500</td>\n",
              "      <td>Saint Vincent and Grenadines1987</td>\n",
              "      <td>NaN</td>\n",
              "      <td>175,580,630</td>\n",
              "      <td>1908</td>\n",
              "      <td>G.I. Generation</td>\n",
              "    </tr>\n",
              "    <tr>\n",
              "      <th>4</th>\n",
              "      <td>Costa Rica</td>\n",
              "      <td>2003</td>\n",
              "      <td>female</td>\n",
              "      <td>75+ years</td>\n",
              "      <td>0</td>\n",
              "      <td>54020</td>\n",
              "      <td>Costa Rica2003</td>\n",
              "      <td>NaN</td>\n",
              "      <td>17,195,867,540</td>\n",
              "      <td>4583</td>\n",
              "      <td>Silent</td>\n",
              "    </tr>\n",
              "  </tbody>\n",
              "</table>\n",
              "</div>\n",
              "      <button class=\"colab-df-convert\" onclick=\"convertToInteractive('df-bb0f73dc-68f5-416d-9a00-5e0351cfcb6c')\"\n",
              "              title=\"Convert this dataframe to an interactive table.\"\n",
              "              style=\"display:none;\">\n",
              "        \n",
              "  <svg xmlns=\"http://www.w3.org/2000/svg\" height=\"24px\"viewBox=\"0 0 24 24\"\n",
              "       width=\"24px\">\n",
              "    <path d=\"M0 0h24v24H0V0z\" fill=\"none\"/>\n",
              "    <path d=\"M18.56 5.44l.94 2.06.94-2.06 2.06-.94-2.06-.94-.94-2.06-.94 2.06-2.06.94zm-11 1L8.5 8.5l.94-2.06 2.06-.94-2.06-.94L8.5 2.5l-.94 2.06-2.06.94zm10 10l.94 2.06.94-2.06 2.06-.94-2.06-.94-.94-2.06-.94 2.06-2.06.94z\"/><path d=\"M17.41 7.96l-1.37-1.37c-.4-.4-.92-.59-1.43-.59-.52 0-1.04.2-1.43.59L10.3 9.45l-7.72 7.72c-.78.78-.78 2.05 0 2.83L4 21.41c.39.39.9.59 1.41.59.51 0 1.02-.2 1.41-.59l7.78-7.78 2.81-2.81c.8-.78.8-2.07 0-2.86zM5.41 20L4 18.59l7.72-7.72 1.47 1.35L5.41 20z\"/>\n",
              "  </svg>\n",
              "      </button>\n",
              "      \n",
              "  <style>\n",
              "    .colab-df-container {\n",
              "      display:flex;\n",
              "      flex-wrap:wrap;\n",
              "      gap: 12px;\n",
              "    }\n",
              "\n",
              "    .colab-df-convert {\n",
              "      background-color: #E8F0FE;\n",
              "      border: none;\n",
              "      border-radius: 50%;\n",
              "      cursor: pointer;\n",
              "      display: none;\n",
              "      fill: #1967D2;\n",
              "      height: 32px;\n",
              "      padding: 0 0 0 0;\n",
              "      width: 32px;\n",
              "    }\n",
              "\n",
              "    .colab-df-convert:hover {\n",
              "      background-color: #E2EBFA;\n",
              "      box-shadow: 0px 1px 2px rgba(60, 64, 67, 0.3), 0px 1px 3px 1px rgba(60, 64, 67, 0.15);\n",
              "      fill: #174EA6;\n",
              "    }\n",
              "\n",
              "    [theme=dark] .colab-df-convert {\n",
              "      background-color: #3B4455;\n",
              "      fill: #D2E3FC;\n",
              "    }\n",
              "\n",
              "    [theme=dark] .colab-df-convert:hover {\n",
              "      background-color: #434B5C;\n",
              "      box-shadow: 0px 1px 3px 1px rgba(0, 0, 0, 0.15);\n",
              "      filter: drop-shadow(0px 1px 2px rgba(0, 0, 0, 0.3));\n",
              "      fill: #FFFFFF;\n",
              "    }\n",
              "  </style>\n",
              "\n",
              "      <script>\n",
              "        const buttonEl =\n",
              "          document.querySelector('#df-bb0f73dc-68f5-416d-9a00-5e0351cfcb6c button.colab-df-convert');\n",
              "        buttonEl.style.display =\n",
              "          google.colab.kernel.accessAllowed ? 'block' : 'none';\n",
              "\n",
              "        async function convertToInteractive(key) {\n",
              "          const element = document.querySelector('#df-bb0f73dc-68f5-416d-9a00-5e0351cfcb6c');\n",
              "          const dataTable =\n",
              "            await google.colab.kernel.invokeFunction('convertToInteractive',\n",
              "                                                     [key], {});\n",
              "          if (!dataTable) return;\n",
              "\n",
              "          const docLinkHtml = 'Like what you see? Visit the ' +\n",
              "            '<a target=\"_blank\" href=https://colab.research.google.com/notebooks/data_table.ipynb>data table notebook</a>'\n",
              "            + ' to learn more about interactive tables.';\n",
              "          element.innerHTML = '';\n",
              "          dataTable['output_type'] = 'display_data';\n",
              "          await google.colab.output.renderOutput(dataTable, element);\n",
              "          const docLink = document.createElement('div');\n",
              "          docLink.innerHTML = docLinkHtml;\n",
              "          element.appendChild(docLink);\n",
              "        }\n",
              "      </script>\n",
              "    </div>\n",
              "  </div>\n",
              "  "
            ]
          },
          "metadata": {},
          "execution_count": 33
        }
      ],
      "source": [
        "X_test.head()"
      ]
    },
    {
      "cell_type": "code",
      "execution_count": 34,
      "metadata": {
        "id": "tT1QoNxlDWsy"
      },
      "outputs": [],
      "source": [
        "with open('gboostreg_pipeline.dill', 'rb') as in_strm:\n",
        "    pipeline = dill.load(in_strm)"
      ]
    },
    {
      "cell_type": "code",
      "execution_count": 35,
      "metadata": {
        "colab": {
          "base_uri": "https://localhost:8080/"
        },
        "id": "5qcX_zD4Dp1t",
        "outputId": "0e1a1083-1abc-4285-f06d-a8c7983008b5"
      },
      "outputs": [
        {
          "output_type": "execute_result",
          "data": {
            "text/plain": [
              "Pipeline(steps=[('features',\n",
              "                 FeatureUnion(transformer_list=[('generation',\n",
              "                                                 Pipeline(steps=[('selector',\n",
              "                                                                  FeatureSelector(column='generation')),\n",
              "                                                                 ('ohe',\n",
              "                                                                  <__main__.MyOrdinalEncoder object at 0x7f5a7a20c790>)])),\n",
              "                                                ('gdp_per_capita ($)',\n",
              "                                                 Pipeline(steps=[('selector',\n",
              "                                                                  NumberSelector(key='gdp_per_capita '\n",
              "                                                                                     '($)')),\n",
              "                                                                 ('pow_2',\n",
              "                                                                  NumericPower(key='gdp_per_capita '\n",
              "                                                                                   '($)',\n",
              "                                                                               p=4)),\n",
              "                                                                 ('Scale',\n",
              "                                                                  StandardScaler())])),\n",
              "                                                ('year',\n",
              "                                                 Pipeline(steps=[('selector',\n",
              "                                                                  NumberSelector(key='year')),\n",
              "                                                                 ('pow_2',\n",
              "                                                                  NumericPower(key='year',\n",
              "                                                                               p=4)),\n",
              "                                                                 ('Scale',\n",
              "                                                                  StandardScaler())]))])),\n",
              "                ('imputer', SimpleImputer(strategy='most_frequent')),\n",
              "                ('regressor',\n",
              "                 GradientBoostingRegressor(criterion='squared_error',\n",
              "                                           max_depth=7, min_samples_leaf=10,\n",
              "                                           random_state=42))])"
            ]
          },
          "metadata": {},
          "execution_count": 35
        }
      ],
      "source": [
        "pipeline"
      ]
    },
    {
      "cell_type": "code",
      "execution_count": 36,
      "metadata": {
        "colab": {
          "base_uri": "https://localhost:8080/"
        },
        "id": "cQhvmy4YECq8",
        "outputId": "2b31107e-493a-41e0-c44c-77a562f1067b"
      },
      "outputs": [
        {
          "output_type": "execute_result",
          "data": {
            "text/plain": [
              "array([ 0.95403687, 47.70278885, 10.58481745,  7.40664641, 18.00017095,\n",
              "       18.57460607,  1.09449213,  2.25527128,  7.19659809,  0.71548211])"
            ]
          },
          "metadata": {},
          "execution_count": 36
        }
      ],
      "source": [
        "preds = pipeline.predict(X_test)\n",
        "\n",
        "preds[:10]"
      ]
    },
    {
      "cell_type": "code",
      "execution_count": 37,
      "metadata": {
        "colab": {
          "base_uri": "https://localhost:8080/"
        },
        "id": "qicBmq6pEa0J",
        "outputId": "63719b7e-1a7b-47c5-bf72-4cfa9a401e62"
      },
      "outputs": [
        {
          "output_type": "execute_result",
          "data": {
            "text/plain": [
              "array([ 0.1 , 13.92,  2.54, ..., 14.48,  4.85, 30.11])"
            ]
          },
          "metadata": {},
          "execution_count": 37
        }
      ],
      "source": [
        "y_test_ar = np.array(y_test['suicides/100k pop'].tolist())\n",
        "y_test_ar"
      ]
    },
    {
      "cell_type": "code",
      "execution_count": 38,
      "metadata": {
        "colab": {
          "base_uri": "https://localhost:8080/",
          "height": 566
        },
        "id": "KUOexXfTMpVI",
        "outputId": "955e68fd-b314-47f5-83e7-795833408a61"
      },
      "outputs": [
        {
          "output_type": "stream",
          "name": "stdout",
          "text": [
            "R2:\t0.196\n",
            "RMSE:\t16.905\n",
            "MSE:\t285.769\n"
          ]
        },
        {
          "output_type": "display_data",
          "data": {
            "text/plain": [
              "<Figure size 576x576 with 1 Axes>"
            ],
            "image/png": "[encoded data removed]"
          },
          "metadata": {
            "needs_background": "light"
          }
        }
      ],
      "source": [
        "evaluate_preds(y_test_ar, preds)"
      ]
    },
    {
      "cell_type": "code",
      "execution_count": 39,
      "metadata": {
        "id": "eb5lSedsEhQG"
      },
      "outputs": [],
      "source": [
        "pred_df = pd.DataFrame({'preds': preds})\n",
        "pred_df.to_csv(\"test_predictions.csv\", index=None)"
      ]
    },
    {
      "cell_type": "markdown",
      "metadata": {
        "id": "dbELRFDKNNwZ"
      },
      "source": [
        "# Step 3 - FLASK"
      ]
    },
    {
      "cell_type": "code",
      "execution_count": 40,
      "metadata": {
        "colab": {
          "base_uri": "https://localhost:8080/"
        },
        "id": "07axvEX4OuQ0",
        "outputId": "470cb7f7-dcd4-476a-dfed-5d1d2fe4ef18"
      },
      "outputs": [
        {
          "output_type": "stream",
          "name": "stdout",
          "text": [
            "Requirement already satisfied: flask-ngrok in /usr/local/lib/python3.7/dist-packages (0.0.25)\n",
            "Requirement already satisfied: Flask>=0.8 in /usr/local/lib/python3.7/dist-packages (from flask-ngrok) (1.1.4)\n",
            "Requirement already satisfied: requests in /usr/local/lib/python3.7/dist-packages (from flask-ngrok) (2.23.0)\n",
            "Requirement already satisfied: Jinja2<3.0,>=2.10.1 in /usr/local/lib/python3.7/dist-packages (from Flask>=0.8->flask-ngrok) (2.11.3)\n",
            "Requirement already satisfied: click<8.0,>=5.1 in /usr/local/lib/python3.7/dist-packages (from Flask>=0.8->flask-ngrok) (7.1.2)\n",
            "Requirement already satisfied: itsdangerous<2.0,>=0.24 in /usr/local/lib/python3.7/dist-packages (from Flask>=0.8->flask-ngrok) (1.1.0)\n",
            "Requirement already satisfied: Werkzeug<2.0,>=0.15 in /usr/local/lib/python3.7/dist-packages (from Flask>=0.8->flask-ngrok) (1.0.1)\n",
            "Requirement already satisfied: MarkupSafe>=0.23 in /usr/local/lib/python3.7/dist-packages (from Jinja2<3.0,>=2.10.1->Flask>=0.8->flask-ngrok) (2.0.1)\n",
            "Requirement already satisfied: idna<3,>=2.5 in /usr/local/lib/python3.7/dist-packages (from requests->flask-ngrok) (2.10)\n",
            "Requirement already satisfied: urllib3!=1.25.0,!=1.25.1,<1.26,>=1.21.1 in /usr/local/lib/python3.7/dist-packages (from requests->flask-ngrok) (1.24.3)\n",
            "Requirement already satisfied: chardet<4,>=3.0.2 in /usr/local/lib/python3.7/dist-packages (from requests->flask-ngrok) (3.0.4)\n",
            "Requirement already satisfied: certifi>=2017.4.17 in /usr/local/lib/python3.7/dist-packages (from requests->flask-ngrok) (2021.10.8)\n"
          ]
        }
      ],
      "source": [
        "!pip install flask-ngrok"
      ]
    },
    {
      "cell_type": "code",
      "execution_count": 41,
      "metadata": {
        "id": "zUJbub52OygL"
      },
      "outputs": [],
      "source": [
        "from flask_ngrok import run_with_ngrok\n",
        "from flask import Flask, request, jsonify\n",
        "import pandas as pd"
      ]
    },
    {
      "cell_type": "code",
      "execution_count": 42,
      "metadata": {
        "colab": {
          "base_uri": "https://localhost:8080/"
        },
        "id": "bpSplEF3O5sn",
        "outputId": "5faf55a2-2daa-48f1-d087-004c596ccc4d"
      },
      "outputs": [
        {
          "output_type": "stream",
          "name": "stdout",
          "text": [
            "--2022-04-20 04:39:57--  https://bin.equinox.io/c/4VmDzA7iaHb/ngrok-stable-linux-amd64.tgz\n",
            "Resolving bin.equinox.io (bin.equinox.io)... 54.161.241.46, 18.205.222.128, 54.237.133.81, ...\n",
            "Connecting to bin.equinox.io (bin.equinox.io)|54.161.241.46|:443... connected.\n",
            "HTTP request sent, awaiting response... 200 OK\n",
            "Length: 13770165 (13M) [application/octet-stream]\n",
            "Saving to: ‘ngrok-stable-linux-amd64.tgz.1’\n",
            "\n",
            "ngrok-stable-linux- 100%[===================>]  13.13M  55.3MB/s    in 0.2s    \n",
            "\n",
            "2022-04-20 04:39:58 (55.3 MB/s) - ‘ngrok-stable-linux-amd64.tgz.1’ saved [13770165/13770165]\n",
            "\n",
            "ngrok\n",
            "Authtoken saved to configuration file: /root/.ngrok2/ngrok.yml\n"
          ]
        }
      ],
      "source": [
        "!wget https://bin.equinox.io/c/4VmDzA7iaHb/ngrok-stable-linux-amd64.tgz\n",
        "!tar -xvf /content/ngrok-stable-linux-amd64.tgz\n",
        "!./ngrok authtoken 27zEiRZKYnZL0BHmJm4pxro7xiW_78HG1GewnZLj4Q1cZsxGj # insert here your personal Authtoken instead of myne\n",
        "!./ngrok http 80"
      ]
    },
    {
      "cell_type": "code",
      "execution_count": 43,
      "metadata": {
        "colab": {
          "base_uri": "https://localhost:8080/"
        },
        "id": "SqG-p8_BPSa3",
        "outputId": "e8281805-e78a-45c0-b0b4-f7b9aeb74bc7"
      },
      "outputs": [
        {
          "output_type": "stream",
          "name": "stdout",
          "text": [
            " * Serving Flask app \"__main__\" (lazy loading)\n",
            " * Environment: production\n",
            "\u001b[31m   WARNING: This is a development server. Do not use it in a production deployment.\u001b[0m\n",
            "\u001b[2m   Use a production WSGI server instead.\u001b[0m\n",
            " * Debug mode: off\n"
          ]
        },
        {
          "output_type": "stream",
          "name": "stderr",
          "text": [
            " * Running on http://127.0.0.1:5000/ (Press CTRL+C to quit)\n"
          ]
        },
        {
          "output_type": "stream",
          "name": "stdout",
          "text": [
            " * Running on http://5d17-35-237-36-97.ngrok.io\n",
            " * Traffic stats available on http://127.0.0.1:4040\n"
          ]
        },
        {
          "output_type": "stream",
          "name": "stderr",
          "text": [
            "127.0.0.1 - - [20/Apr/2022 04:40:12] \"\u001b[33mGET / HTTP/1.1\u001b[0m\" 404 -\n",
            "127.0.0.1 - - [20/Apr/2022 04:40:13] \"\u001b[33mGET /favicon.ico HTTP/1.1\u001b[0m\" 404 -\n",
            "127.0.0.1 - - [20/Apr/2022 04:40:18] \"\u001b[37mGET /a HTTP/1.1\u001b[0m\" 200 -\n"
          ]
        }
      ],
      "source": [
        "# Пробный запуск Flask\n",
        "\n",
        "app = Flask(__name__)\n",
        "run_with_ngrok(app)  # Start ngrok when app is run\n",
        "\n",
        "@app.route(\"/a\")\n",
        "def hello():\n",
        "    return \"Hello World!\"\n",
        "\n",
        "if __name__ == '__main__':\n",
        "    app.run()"
      ]
    },
    {
      "cell_type": "code",
      "execution_count": 44,
      "metadata": {
        "id": "V4hPE8FASNUg"
      },
      "outputs": [],
      "source": [
        "import pandas as pd\n",
        "import dill"
      ]
    },
    {
      "cell_type": "markdown",
      "metadata": {
        "id": "HeZ4_feOSWON"
      },
      "source": [
        "### **Создаем сервис для обработки запросов к модели**"
      ]
    },
    {
      "cell_type": "code",
      "execution_count": 45,
      "metadata": {
        "id": "T2R-_V9jSYdt"
      },
      "outputs": [],
      "source": [
        "# Загружаем обученные модели\n",
        "with open('gboostreg_pipeline.dill', 'rb') as in_strm:\n",
        "    model = dill.load(in_strm)"
      ]
    },
    {
      "cell_type": "code",
      "execution_count": 46,
      "metadata": {
        "id": "6ZIOQYVFStms"
      },
      "outputs": [],
      "source": [
        "X_test = pd.read_csv(\"X_test.csv\")\n",
        "y_test = pd.read_csv(\"y_test.csv\")"
      ]
    },
    {
      "cell_type": "code",
      "execution_count": 47,
      "metadata": {
        "colab": {
          "base_uri": "https://localhost:8080/"
        },
        "id": "CQUrPHb0S7TC",
        "outputId": "8437efdd-b77a-4f94-8de8-cc4c27b4e503"
      },
      "outputs": [
        {
          "output_type": "stream",
          "name": "stdout",
          "text": [
            " * Serving Flask app \"__main__\" (lazy loading)\n",
            " * Environment: production\n",
            "\u001b[31m   WARNING: This is a development server. Do not use it in a production deployment.\u001b[0m\n",
            "\u001b[2m   Use a production WSGI server instead.\u001b[0m\n",
            " * Debug mode: off\n"
          ]
        },
        {
          "output_type": "stream",
          "name": "stderr",
          "text": [
            " * Running on http://127.0.0.1:5000/ (Press CTRL+C to quit)\n"
          ]
        },
        {
          "output_type": "stream",
          "name": "stdout",
          "text": [
            " * Running on http://d930-35-237-36-97.ngrok.io\n",
            " * Traffic stats available on http://127.0.0.1:4040\n"
          ]
        },
        {
          "output_type": "stream",
          "name": "stderr",
          "text": [
            "127.0.0.1 - - [20/Apr/2022 04:41:02] \"\u001b[37mGET / HTTP/1.1\u001b[0m\" 200 -\n",
            "127.0.0.1 - - [20/Apr/2022 04:41:22] \"\u001b[33mGET /favicon.ico HTTP/1.1\u001b[0m\" 404 -\n",
            "127.0.0.1 - - [20/Apr/2022 04:43:09] \"\u001b[37mPOST /predict HTTP/1.1\u001b[0m\" 200 -\n"
          ]
        },
        {
          "output_type": "stream",
          "name": "stdout",
          "text": [
            "prediction year:  1985\n",
            "OK\n"
          ]
        },
        {
          "output_type": "stream",
          "name": "stderr",
          "text": [
            "127.0.0.1 - - [20/Apr/2022 04:43:44] \"\u001b[37mPOST /predict HTTP/1.1\u001b[0m\" 200 -\n"
          ]
        },
        {
          "output_type": "stream",
          "name": "stdout",
          "text": [
            "prediction year:  2015\n",
            "OK\n"
          ]
        },
        {
          "output_type": "stream",
          "name": "stderr",
          "text": [
            "127.0.0.1 - - [20/Apr/2022 04:43:45] \"\u001b[37mPOST /predict HTTP/1.1\u001b[0m\" 200 -\n",
            "127.0.0.1 - - [20/Apr/2022 04:43:45] \"\u001b[37mPOST /predict HTTP/1.1\u001b[0m\" 200 -\n"
          ]
        },
        {
          "output_type": "stream",
          "name": "stdout",
          "text": [
            "prediction year:  2015\n",
            "OK\n",
            "prediction year:  2001\n",
            "OK\n"
          ]
        },
        {
          "output_type": "stream",
          "name": "stderr",
          "text": [
            "127.0.0.1 - - [20/Apr/2022 04:43:45] \"\u001b[37mPOST /predict HTTP/1.1\u001b[0m\" 200 -\n",
            "127.0.0.1 - - [20/Apr/2022 04:43:45] \"\u001b[37mPOST /predict HTTP/1.1\u001b[0m\" 200 -\n"
          ]
        },
        {
          "output_type": "stream",
          "name": "stdout",
          "text": [
            "prediction year:  2013\n",
            "OK\n",
            "prediction year:  1987\n",
            "OK\n"
          ]
        },
        {
          "output_type": "stream",
          "name": "stderr",
          "text": [
            "127.0.0.1 - - [20/Apr/2022 04:43:45] \"\u001b[37mPOST /predict HTTP/1.1\u001b[0m\" 200 -\n",
            "127.0.0.1 - - [20/Apr/2022 04:43:45] \"\u001b[37mPOST /predict HTTP/1.1\u001b[0m\" 200 -\n"
          ]
        },
        {
          "output_type": "stream",
          "name": "stdout",
          "text": [
            "prediction year:  2003\n",
            "OK\n",
            "prediction year:  1993\n",
            "OK\n"
          ]
        },
        {
          "output_type": "stream",
          "name": "stderr",
          "text": [
            "127.0.0.1 - - [20/Apr/2022 04:43:46] \"\u001b[37mPOST /predict HTTP/1.1\u001b[0m\" 200 -\n",
            "127.0.0.1 - - [20/Apr/2022 04:43:46] \"\u001b[37mPOST /predict HTTP/1.1\u001b[0m\" 200 -\n"
          ]
        },
        {
          "output_type": "stream",
          "name": "stdout",
          "text": [
            "prediction year:  2002\n",
            "OK\n",
            "prediction year:  2002\n",
            "OK\n"
          ]
        },
        {
          "output_type": "stream",
          "name": "stderr",
          "text": [
            "127.0.0.1 - - [20/Apr/2022 04:43:46] \"\u001b[37mPOST /predict HTTP/1.1\u001b[0m\" 200 -\n",
            "127.0.0.1 - - [20/Apr/2022 04:43:46] \"\u001b[37mPOST /predict HTTP/1.1\u001b[0m\" 200 -\n"
          ]
        },
        {
          "output_type": "stream",
          "name": "stdout",
          "text": [
            "prediction year:  1990\n",
            "OK\n",
            "prediction year:  1995\n",
            "OK\n"
          ]
        },
        {
          "output_type": "stream",
          "name": "stderr",
          "text": [
            "127.0.0.1 - - [20/Apr/2022 04:43:46] \"\u001b[37mPOST /predict HTTP/1.1\u001b[0m\" 200 -\n",
            "127.0.0.1 - - [20/Apr/2022 04:43:47] \"\u001b[37mPOST /predict HTTP/1.1\u001b[0m\" 200 -\n"
          ]
        },
        {
          "output_type": "stream",
          "name": "stdout",
          "text": [
            "prediction year:  1989\n",
            "OK\n",
            "prediction year:  2008\n",
            "OK\n"
          ]
        },
        {
          "output_type": "stream",
          "name": "stderr",
          "text": [
            "127.0.0.1 - - [20/Apr/2022 04:43:47] \"\u001b[37mPOST /predict HTTP/1.1\u001b[0m\" 200 -\n",
            "127.0.0.1 - - [20/Apr/2022 04:43:47] \"\u001b[37mPOST /predict HTTP/1.1\u001b[0m\" 200 -\n"
          ]
        },
        {
          "output_type": "stream",
          "name": "stdout",
          "text": [
            "prediction year:  2012\n",
            "OK\n",
            "prediction year:  2009\n",
            "OK\n"
          ]
        },
        {
          "output_type": "stream",
          "name": "stderr",
          "text": [
            "127.0.0.1 - - [20/Apr/2022 04:43:47] \"\u001b[37mPOST /predict HTTP/1.1\u001b[0m\" 200 -\n",
            "127.0.0.1 - - [20/Apr/2022 04:43:47] \"\u001b[37mPOST /predict HTTP/1.1\u001b[0m\" 200 -\n"
          ]
        },
        {
          "output_type": "stream",
          "name": "stdout",
          "text": [
            "prediction year:  2005\n",
            "OK\n",
            "prediction year:  2010\n",
            "OK\n"
          ]
        },
        {
          "output_type": "stream",
          "name": "stderr",
          "text": [
            "127.0.0.1 - - [20/Apr/2022 04:43:47] \"\u001b[37mPOST /predict HTTP/1.1\u001b[0m\" 200 -\n",
            "127.0.0.1 - - [20/Apr/2022 04:43:48] \"\u001b[37mPOST /predict HTTP/1.1\u001b[0m\" 200 -\n"
          ]
        },
        {
          "output_type": "stream",
          "name": "stdout",
          "text": [
            "prediction year:  2004\n",
            "OK\n",
            "prediction year:  2014\n",
            "OK\n"
          ]
        },
        {
          "output_type": "stream",
          "name": "stderr",
          "text": [
            "127.0.0.1 - - [20/Apr/2022 04:43:48] \"\u001b[37mPOST /predict HTTP/1.1\u001b[0m\" 200 -\n",
            "127.0.0.1 - - [20/Apr/2022 04:43:48] \"\u001b[37mPOST /predict HTTP/1.1\u001b[0m\" 200 -\n"
          ]
        },
        {
          "output_type": "stream",
          "name": "stdout",
          "text": [
            "prediction year:  2000\n",
            "OK\n",
            "prediction year:  2011\n",
            "OK\n"
          ]
        },
        {
          "output_type": "stream",
          "name": "stderr",
          "text": [
            "127.0.0.1 - - [20/Apr/2022 04:43:48] \"\u001b[37mPOST /predict HTTP/1.1\u001b[0m\" 200 -\n",
            "127.0.0.1 - - [20/Apr/2022 04:43:48] \"\u001b[37mPOST /predict HTTP/1.1\u001b[0m\" 200 -\n"
          ]
        },
        {
          "output_type": "stream",
          "name": "stdout",
          "text": [
            "prediction year:  2010\n",
            "OK\n",
            "prediction year:  2005\n",
            "OK\n"
          ]
        },
        {
          "output_type": "stream",
          "name": "stderr",
          "text": [
            "127.0.0.1 - - [20/Apr/2022 04:43:49] \"\u001b[37mPOST /predict HTTP/1.1\u001b[0m\" 200 -\n",
            "127.0.0.1 - - [20/Apr/2022 04:43:49] \"\u001b[37mPOST /predict HTTP/1.1\u001b[0m\" 200 -\n"
          ]
        },
        {
          "output_type": "stream",
          "name": "stdout",
          "text": [
            "prediction year:  1986\n",
            "OK\n",
            "prediction year:  2001\n",
            "OK\n"
          ]
        },
        {
          "output_type": "stream",
          "name": "stderr",
          "text": [
            "127.0.0.1 - - [20/Apr/2022 04:43:49] \"\u001b[37mPOST /predict HTTP/1.1\u001b[0m\" 200 -\n",
            "127.0.0.1 - - [20/Apr/2022 04:43:49] \"\u001b[37mPOST /predict HTTP/1.1\u001b[0m\" 200 -\n"
          ]
        },
        {
          "output_type": "stream",
          "name": "stdout",
          "text": [
            "prediction year:  2003\n",
            "OK\n",
            "prediction year:  1999\n",
            "OK\n"
          ]
        },
        {
          "output_type": "stream",
          "name": "stderr",
          "text": [
            "127.0.0.1 - - [20/Apr/2022 04:43:49] \"\u001b[37mPOST /predict HTTP/1.1\u001b[0m\" 200 -\n",
            "127.0.0.1 - - [20/Apr/2022 04:43:49] \"\u001b[37mPOST /predict HTTP/1.1\u001b[0m\" 200 -\n"
          ]
        },
        {
          "output_type": "stream",
          "name": "stdout",
          "text": [
            "prediction year:  2005\n",
            "OK\n",
            "prediction year:  1998\n",
            "OK\n"
          ]
        },
        {
          "output_type": "stream",
          "name": "stderr",
          "text": [
            "127.0.0.1 - - [20/Apr/2022 04:43:50] \"\u001b[37mPOST /predict HTTP/1.1\u001b[0m\" 200 -\n",
            "127.0.0.1 - - [20/Apr/2022 04:43:50] \"\u001b[37mPOST /predict HTTP/1.1\u001b[0m\" 200 -\n"
          ]
        },
        {
          "output_type": "stream",
          "name": "stdout",
          "text": [
            "prediction year:  2001\n",
            "OK\n",
            "prediction year:  2014\n",
            "OK\n"
          ]
        },
        {
          "output_type": "stream",
          "name": "stderr",
          "text": [
            "127.0.0.1 - - [20/Apr/2022 04:43:50] \"\u001b[37mPOST /predict HTTP/1.1\u001b[0m\" 200 -\n",
            "127.0.0.1 - - [20/Apr/2022 04:43:50] \"\u001b[37mPOST /predict HTTP/1.1\u001b[0m\" 200 -\n"
          ]
        },
        {
          "output_type": "stream",
          "name": "stdout",
          "text": [
            "prediction year:  1999\n",
            "OK\n",
            "prediction year:  1994\n",
            "OK\n"
          ]
        },
        {
          "output_type": "stream",
          "name": "stderr",
          "text": [
            "127.0.0.1 - - [20/Apr/2022 04:43:50] \"\u001b[37mPOST /predict HTTP/1.1\u001b[0m\" 200 -\n",
            "127.0.0.1 - - [20/Apr/2022 04:43:51] \"\u001b[37mPOST /predict HTTP/1.1\u001b[0m\" 200 -\n"
          ]
        },
        {
          "output_type": "stream",
          "name": "stdout",
          "text": [
            "prediction year:  2005\n",
            "OK\n",
            "prediction year:  1995\n",
            "OK\n"
          ]
        },
        {
          "output_type": "stream",
          "name": "stderr",
          "text": [
            "127.0.0.1 - - [20/Apr/2022 04:43:51] \"\u001b[37mPOST /predict HTTP/1.1\u001b[0m\" 200 -\n",
            "127.0.0.1 - - [20/Apr/2022 04:43:51] \"\u001b[37mPOST /predict HTTP/1.1\u001b[0m\" 200 -\n"
          ]
        },
        {
          "output_type": "stream",
          "name": "stdout",
          "text": [
            "prediction year:  2002\n",
            "OK\n",
            "prediction year:  1988\n",
            "OK\n"
          ]
        },
        {
          "output_type": "stream",
          "name": "stderr",
          "text": [
            "127.0.0.1 - - [20/Apr/2022 04:43:51] \"\u001b[37mPOST /predict HTTP/1.1\u001b[0m\" 200 -\n",
            "127.0.0.1 - - [20/Apr/2022 04:43:51] \"\u001b[37mPOST /predict HTTP/1.1\u001b[0m\" 200 -\n"
          ]
        },
        {
          "output_type": "stream",
          "name": "stdout",
          "text": [
            "prediction year:  2010\n",
            "OK\n",
            "prediction year:  1997\n",
            "OK\n"
          ]
        },
        {
          "output_type": "stream",
          "name": "stderr",
          "text": [
            "127.0.0.1 - - [20/Apr/2022 04:43:51] \"\u001b[37mPOST /predict HTTP/1.1\u001b[0m\" 200 -\n",
            "127.0.0.1 - - [20/Apr/2022 04:43:52] \"\u001b[37mPOST /predict HTTP/1.1\u001b[0m\" 200 -\n"
          ]
        },
        {
          "output_type": "stream",
          "name": "stdout",
          "text": [
            "prediction year:  1989\n",
            "OK\n",
            "prediction year:  2003\n",
            "OK\n"
          ]
        },
        {
          "output_type": "stream",
          "name": "stderr",
          "text": [
            "127.0.0.1 - - [20/Apr/2022 04:43:52] \"\u001b[37mPOST /predict HTTP/1.1\u001b[0m\" 200 -\n",
            "127.0.0.1 - - [20/Apr/2022 04:43:52] \"\u001b[37mPOST /predict HTTP/1.1\u001b[0m\" 200 -\n"
          ]
        },
        {
          "output_type": "stream",
          "name": "stdout",
          "text": [
            "prediction year:  2006\n",
            "OK\n",
            "prediction year:  1991\n",
            "OK\n"
          ]
        },
        {
          "output_type": "stream",
          "name": "stderr",
          "text": [
            "127.0.0.1 - - [20/Apr/2022 04:43:52] \"\u001b[37mPOST /predict HTTP/1.1\u001b[0m\" 200 -\n",
            "127.0.0.1 - - [20/Apr/2022 04:43:52] \"\u001b[37mPOST /predict HTTP/1.1\u001b[0m\" 200 -\n"
          ]
        },
        {
          "output_type": "stream",
          "name": "stdout",
          "text": [
            "prediction year:  2000\n",
            "OK\n",
            "prediction year:  1995\n",
            "OK\n"
          ]
        },
        {
          "output_type": "stream",
          "name": "stderr",
          "text": [
            "127.0.0.1 - - [20/Apr/2022 04:43:53] \"\u001b[37mPOST /predict HTTP/1.1\u001b[0m\" 200 -\n",
            "127.0.0.1 - - [20/Apr/2022 04:43:53] \"\u001b[37mPOST /predict HTTP/1.1\u001b[0m\" 200 -\n"
          ]
        },
        {
          "output_type": "stream",
          "name": "stdout",
          "text": [
            "prediction year:  1996\n",
            "OK\n",
            "prediction year:  2000\n",
            "OK\n"
          ]
        },
        {
          "output_type": "stream",
          "name": "stderr",
          "text": [
            "127.0.0.1 - - [20/Apr/2022 04:43:53] \"\u001b[37mPOST /predict HTTP/1.1\u001b[0m\" 200 -\n",
            "127.0.0.1 - - [20/Apr/2022 04:43:53] \"\u001b[37mPOST /predict HTTP/1.1\u001b[0m\" 200 -\n"
          ]
        },
        {
          "output_type": "stream",
          "name": "stdout",
          "text": [
            "prediction year:  1988\n",
            "OK\n",
            "prediction year:  1985\n",
            "OK\n"
          ]
        },
        {
          "output_type": "stream",
          "name": "stderr",
          "text": [
            "127.0.0.1 - - [20/Apr/2022 04:43:53] \"\u001b[37mPOST /predict HTTP/1.1\u001b[0m\" 200 -\n"
          ]
        },
        {
          "output_type": "stream",
          "name": "stdout",
          "text": [
            "prediction year:  2010\n",
            "OK\n",
            "prediction year:  1985\n"
          ]
        },
        {
          "output_type": "stream",
          "name": "stderr",
          "text": [
            "127.0.0.1 - - [20/Apr/2022 04:43:53] \"\u001b[37mPOST /predict HTTP/1.1\u001b[0m\" 200 -\n"
          ]
        },
        {
          "output_type": "stream",
          "name": "stdout",
          "text": [
            "OK\n"
          ]
        }
      ],
      "source": [
        "# Обработчики и запуск Flask\n",
        "app = Flask(__name__)\n",
        "run_with_ngrok(app)  # Start ngrok when app is run\n",
        "\n",
        "\n",
        "@app.route(\"/\", methods=[\"GET\"])\n",
        "def general():\n",
        "    return \"Welcome to prediction process\"\n",
        "\n",
        "\n",
        "@app.route('/predict', methods=['POST'])\n",
        "def predict():\n",
        "    data = {\"success\": False}\n",
        "\n",
        "    # ensure an image was properly uploaded to our endpoint\n",
        "    generation, gdp_per_capita, year = \"\", \"\", \"\"\n",
        "    request_json = request.get_json()\n",
        "    \n",
        "    if request_json['generation']:\n",
        "        generation = request_json['generation']\n",
        "    \n",
        "    if request_json['gdp_per_capita ($)']:\n",
        "        gdp_per_capita = request_json['gdp_per_capita ($)']\n",
        "                \n",
        "    if request_json['year']:\n",
        "        year = request_json['year']\n",
        "    \n",
        "    print('prediction year: ', year)  \n",
        "    preds = model.predict(pd.DataFrame({\"generation\": [generation],\n",
        "                                        'gdp_per_capita ($)': [gdp_per_capita],\n",
        "                                        \"year\": [year]}))\n",
        "    data[\"predictions\"] = preds[0]\n",
        "    data[\"year\"] = year\n",
        "        # indicate that the request was a success\n",
        "    data[\"success\"] = True\n",
        "    print('OK')\n",
        "\n",
        "        # return the data dictionary as a JSON response\n",
        "    return jsonify(data)\n",
        "\n",
        "\n",
        "if __name__ == '__main__':\n",
        "    app.run()"
      ]
    }
  ],
  "metadata": {
    "colab": {
      "name": "server.ipynb",
      "provenance": []
    },
    "kernelspec": {
      "display_name": "Python 3",
      "name": "python3"
    },
    "language_info": {
      "name": "python"
    }
  },
  "nbformat": 4,
  "nbformat_minor": 0
}