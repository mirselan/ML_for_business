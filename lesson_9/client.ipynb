{
  "nbformat": 4,
  "nbformat_minor": 0,
  "metadata": {
    "colab": {
      "name": "client.ipynb",
      "provenance": []
    },
    "kernelspec": {
      "name": "python3",
      "display_name": "Python 3"
    },
    "language_info": {
      "name": "python"
    }
  },
  "cells": [
    {
      "cell_type": "markdown",
      "source": [
        "#Интеграция. Итоговый проект/client"
      ],
      "metadata": {
        "id": "-gn84Cz023Oq"
      }
    },
    {
      "cell_type": "markdown",
      "source": [
        "Строим запрос к нашему сервису"
      ],
      "metadata": {
        "id": "ezy-hJrlSqNx"
      }
    },
    {
      "cell_type": "code",
      "execution_count": 5,
      "metadata": {
        "id": "pVB2M4WG22X6"
      },
      "outputs": [],
      "source": [
        "import requests\n",
        "\n",
        "import urllib.request\n",
        "import json "
      ]
    },
    {
      "cell_type": "code",
      "source": [
        "# Пример данных\n",
        "data = ( \n",
        "    \"Silent\",\n",
        "    1908,\n",
        "    1985\n",
        ")"
      ],
      "metadata": {
        "id": "gEeJUZsTSwdi"
      },
      "execution_count": 17,
      "outputs": []
    },
    {
      "cell_type": "code",
      "source": [
        "# формируем запрос\n",
        "def send_json(x):\n",
        "    generation, gdp_per_capita, year = x\n",
        "    #print(generation, gdp_per_capita, year)\n",
        "    body = {\n",
        "        \"generation\": generation,\n",
        "        'gdp_per_capita ($)': gdp_per_capita,\n",
        "        \"year\": year\n",
        "        }\n",
        "    myurl = 'http://efec-35-237-36-97.ngrok.io' + '/predict'\n",
        "    headers = {'content-type': 'application/json; charset=utf-8'}\n",
        "    response = requests.post(myurl, json=body, headers=headers)\n",
        "    return response.json()['predictions']\n",
        "\n",
        "    "
      ],
      "metadata": {
        "id": "3Ypt5UxaTLoF"
      },
      "execution_count": 19,
      "outputs": []
    },
    {
      "cell_type": "code",
      "source": [
        "# обращение к серверу с запросом из одного набора (его построили руками выше - data)\n",
        "response = send_json(data)\n",
        "print('предсказание', response)"
      ],
      "metadata": {
        "colab": {
          "base_uri": "https://localhost:8080/"
        },
        "id": "ozSwV5HfUQ6r",
        "outputId": "1ba3e688-dfef-494b-ff8c-bdc34c17ed1a"
      },
      "execution_count": 21,
      "outputs": [
        {
          "output_type": "stream",
          "name": "stdout",
          "text": [
            "предсказание 8.119239389201185\n"
          ]
        }
      ]
    },
    {
      "cell_type": "markdown",
      "source": [
        "Сделаем обработку массы запросов:\n",
        "\n",
        "1) загрузим данные X_test\n",
        "\n",
        "https://drive.google.com/file/d/19ybf27NHtT7MJYj_3eiDqFuk3mX3409m\n",
        "\n",
        "https://drive.google.com/file/d/1skm7ty_o59ubqWQKRC444woexWa-XRer\n",
        "\n",
        "\n",
        "\n"
      ],
      "metadata": {
        "id": "pP25MY9RVv5h"
      }
    },
    {
      "cell_type": "code",
      "source": [
        "!wget 'https://drive.google.com/uc?export=download&id=19ybf27NHtT7MJYj_3eiDqFuk3mX3409m' -O X_test.csv\n",
        "!wget 'https://drive.google.com/uc?export=download&id=1skm7ty_o59ubqWQKRC444woexWa-XRer' -O y_test.csv"
      ],
      "metadata": {
        "colab": {
          "base_uri": "https://localhost:8080/"
        },
        "id": "SR8tv3nAWgIw",
        "outputId": "5a224b53-e0e8-488e-b974-bffe8e62ccab"
      },
      "execution_count": 24,
      "outputs": [
        {
          "output_type": "stream",
          "name": "stdout",
          "text": [
            "--2022-04-20 04:34:40--  https://drive.google.com/uc?export=download&id=19ybf27NHtT7MJYj_3eiDqFuk3mX3409m\n",
            "Resolving drive.google.com (drive.google.com)... 142.250.141.138, 142.250.141.139, 142.250.141.113, ...\n",
            "Connecting to drive.google.com (drive.google.com)|142.250.141.138|:443... connected.\n",
            "HTTP request sent, awaiting response... 303 See Other\n",
            "Location: https://doc-0o-9s-docs.googleusercontent.com/docs/securesc/ha0ro937gcuc7l7deffksulhg5h7mbp1/al97un22e0enepnuln7et6c154sh30e7/1650429225000/11422071002972207359/*/19ybf27NHtT7MJYj_3eiDqFuk3mX3409m?e=download [following]\n",
            "Warning: wildcards not supported in HTTP.\n",
            "--2022-04-20 04:34:41--  https://doc-0o-9s-docs.googleusercontent.com/docs/securesc/ha0ro937gcuc7l7deffksulhg5h7mbp1/al97un22e0enepnuln7et6c154sh30e7/1650429225000/11422071002972207359/*/19ybf27NHtT7MJYj_3eiDqFuk3mX3409m?e=download\n",
            "Resolving doc-0o-9s-docs.googleusercontent.com (doc-0o-9s-docs.googleusercontent.com)... 142.250.141.132, 2607:f8b0:4023:c0b::84\n",
            "Connecting to doc-0o-9s-docs.googleusercontent.com (doc-0o-9s-docs.googleusercontent.com)|142.250.141.132|:443... connected.\n",
            "HTTP request sent, awaiting response... 200 OK\n",
            "Length: 840338 (821K) [text/csv]\n",
            "Saving to: ‘X_test.csv’\n",
            "\n",
            "X_test.csv          100%[===================>] 820.64K  4.67MB/s    in 0.2s    \n",
            "\n",
            "2022-04-20 04:34:41 (4.67 MB/s) - ‘X_test.csv’ saved [840338/840338]\n",
            "\n",
            "--2022-04-20 04:34:42--  https://drive.google.com/uc?export=download&id=1skm7ty_o59ubqWQKRC444woexWa-XRer\n",
            "Resolving drive.google.com (drive.google.com)... 142.250.141.113, 142.250.141.139, 142.250.141.100, ...\n",
            "Connecting to drive.google.com (drive.google.com)|142.250.141.113|:443... connected.\n",
            "HTTP request sent, awaiting response... 303 See Other\n",
            "Location: https://doc-0g-9s-docs.googleusercontent.com/docs/securesc/ha0ro937gcuc7l7deffksulhg5h7mbp1/kv6p3atmlotoqka4gqdp9ehm6qqor3sd/1650429225000/11422071002972207359/*/1skm7ty_o59ubqWQKRC444woexWa-XRer?e=download [following]\n",
            "Warning: wildcards not supported in HTTP.\n",
            "--2022-04-20 04:34:42--  https://doc-0g-9s-docs.googleusercontent.com/docs/securesc/ha0ro937gcuc7l7deffksulhg5h7mbp1/kv6p3atmlotoqka4gqdp9ehm6qqor3sd/1650429225000/11422071002972207359/*/1skm7ty_o59ubqWQKRC444woexWa-XRer?e=download\n",
            "Resolving doc-0g-9s-docs.googleusercontent.com (doc-0g-9s-docs.googleusercontent.com)... 142.250.141.132, 2607:f8b0:4023:c0b::84\n",
            "Connecting to doc-0g-9s-docs.googleusercontent.com (doc-0g-9s-docs.googleusercontent.com)|142.250.141.132|:443... connected.\n",
            "HTTP request sent, awaiting response... 200 OK\n",
            "Length: 47219 (46K) [text/csv]\n",
            "Saving to: ‘y_test.csv’\n",
            "\n",
            "y_test.csv          100%[===================>]  46.11K  --.-KB/s    in 0.03s   \n",
            "\n",
            "2022-04-20 04:34:42 (1.65 MB/s) - ‘y_test.csv’ saved [47219/47219]\n",
            "\n"
          ]
        }
      ]
    },
    {
      "cell_type": "code",
      "source": [
        "import pandas as pd\n",
        "import numpy as np\n",
        "\n",
        "from sklearn.metrics import mean_squared_error as mse, r2_score as r2\n",
        "from urllib import request, parse\n",
        "\n",
        "#visualisation\n",
        "import matplotlib\n",
        "import matplotlib.pyplot as plt\n",
        "import seaborn as sns\n",
        "%matplotlib inline\n",
        "\n",
        "\n",
        "X_test = pd.read_csv(\"X_test.csv\")\n",
        "y_test = pd.read_csv(\"y_test.csv\")"
      ],
      "metadata": {
        "id": "w4IDmaSdXFmZ"
      },
      "execution_count": 25,
      "outputs": []
    },
    {
      "cell_type": "code",
      "source": [
        "def evaluate_preds(true_values, pred_values, save=False):\n",
        "    \"\"\"Оценка качества модели и график preds vs true\"\"\"\n",
        "    \n",
        "    print(\"R2:\\t\" + str(round(r2(true_values, pred_values), 3)) + \"\\n\" +\n",
        "          \"RMSE:\\t\" + str(round(np.sqrt(mse(true_values, pred_values)), 3)) + \"\\n\" +\n",
        "          \"MSE:\\t\" + str(round(mse(true_values, pred_values), 3))\n",
        "         )\n",
        "    \n",
        "    plt.figure(figsize=(8,8))\n",
        "    \n",
        "    sns.scatterplot(x=pred_values, y=true_values)\n",
        "    plt.plot([0, 250], [0, 250], linestyle='--', color='black')  # диагональ, где true_values = pred_values\n",
        "    \n",
        "    plt.xlabel('Predicted values')\n",
        "    plt.ylabel('True values')\n",
        "    plt.title('True vs Predicted values')\n",
        "    \n",
        "    plt.show()"
      ],
      "metadata": {
        "id": "n_jUmZuBXpWP"
      },
      "execution_count": 26,
      "outputs": []
    },
    {
      "cell_type": "markdown",
      "source": [
        "2) Передаем одиночный запрос из наших данных и посмотрим на ответ"
      ],
      "metadata": {
        "id": "w-4lrgEnYPlV"
      }
    },
    {
      "cell_type": "code",
      "source": [
        "response = send_json([X_test[\"generation\"].iloc[0], int(X_test[\"gdp_per_capita ($)\"].iloc[0]), int(X_test[\"year\"].iloc[0])])"
      ],
      "metadata": {
        "id": "vRmZr2MbYScA"
      },
      "execution_count": 27,
      "outputs": []
    },
    {
      "cell_type": "code",
      "source": [
        "response"
      ],
      "metadata": {
        "colab": {
          "base_uri": "https://localhost:8080/"
        },
        "id": "sAdnt52_bSv1",
        "outputId": "9d02be67-906a-4646-c3db-1ac4d7399083"
      },
      "execution_count": 28,
      "outputs": [
        {
          "output_type": "execute_result",
          "data": {
            "text/plain": [
              "0.9540368694978252"
            ]
          },
          "metadata": {},
          "execution_count": 28
        }
      ]
    },
    {
      "cell_type": "code",
      "source": [
        "X_test[[\"generation\", \"gdp_per_capita ($)\", \"year\"]].head()"
      ],
      "metadata": {
        "colab": {
          "base_uri": "https://localhost:8080/",
          "height": 206
        },
        "id": "oHwsBPHUbToM",
        "outputId": "84aa8e1d-7c20-402c-e370-b256347e8044"
      },
      "execution_count": 29,
      "outputs": [
        {
          "output_type": "execute_result",
          "data": {
            "text/plain": [
              "        generation  gdp_per_capita ($)  year\n",
              "0     Generation Z               47206  2015\n",
              "1           Silent                 912  2001\n",
              "2     Generation X                3885  2013\n",
              "3  G.I. Generation                1908  1987\n",
              "4           Silent                4583  2003"
            ],
            "text/html": [
              "\n",
              "  <div id=\"df-03ca5077-6036-4567-8e10-2aed130ac471\">\n",
              "    <div class=\"colab-df-container\">\n",
              "      <div>\n",
              "<style scoped>\n",
              "    .dataframe tbody tr th:only-of-type {\n",
              "        vertical-align: middle;\n",
              "    }\n",
              "\n",
              "    .dataframe tbody tr th {\n",
              "        vertical-align: top;\n",
              "    }\n",
              "\n",
              "    .dataframe thead th {\n",
              "        text-align: right;\n",
              "    }\n",
              "</style>\n",
              "<table border=\"1\" class=\"dataframe\">\n",
              "  <thead>\n",
              "    <tr style=\"text-align: right;\">\n",
              "      <th></th>\n",
              "      <th>generation</th>\n",
              "      <th>gdp_per_capita ($)</th>\n",
              "      <th>year</th>\n",
              "    </tr>\n",
              "  </thead>\n",
              "  <tbody>\n",
              "    <tr>\n",
              "      <th>0</th>\n",
              "      <td>Generation Z</td>\n",
              "      <td>47206</td>\n",
              "      <td>2015</td>\n",
              "    </tr>\n",
              "    <tr>\n",
              "      <th>1</th>\n",
              "      <td>Silent</td>\n",
              "      <td>912</td>\n",
              "      <td>2001</td>\n",
              "    </tr>\n",
              "    <tr>\n",
              "      <th>2</th>\n",
              "      <td>Generation X</td>\n",
              "      <td>3885</td>\n",
              "      <td>2013</td>\n",
              "    </tr>\n",
              "    <tr>\n",
              "      <th>3</th>\n",
              "      <td>G.I. Generation</td>\n",
              "      <td>1908</td>\n",
              "      <td>1987</td>\n",
              "    </tr>\n",
              "    <tr>\n",
              "      <th>4</th>\n",
              "      <td>Silent</td>\n",
              "      <td>4583</td>\n",
              "      <td>2003</td>\n",
              "    </tr>\n",
              "  </tbody>\n",
              "</table>\n",
              "</div>\n",
              "      <button class=\"colab-df-convert\" onclick=\"convertToInteractive('df-03ca5077-6036-4567-8e10-2aed130ac471')\"\n",
              "              title=\"Convert this dataframe to an interactive table.\"\n",
              "              style=\"display:none;\">\n",
              "        \n",
              "  <svg xmlns=\"http://www.w3.org/2000/svg\" height=\"24px\"viewBox=\"0 0 24 24\"\n",
              "       width=\"24px\">\n",
              "    <path d=\"M0 0h24v24H0V0z\" fill=\"none\"/>\n",
              "    <path d=\"M18.56 5.44l.94 2.06.94-2.06 2.06-.94-2.06-.94-.94-2.06-.94 2.06-2.06.94zm-11 1L8.5 8.5l.94-2.06 2.06-.94-2.06-.94L8.5 2.5l-.94 2.06-2.06.94zm10 10l.94 2.06.94-2.06 2.06-.94-2.06-.94-.94-2.06-.94 2.06-2.06.94z\"/><path d=\"M17.41 7.96l-1.37-1.37c-.4-.4-.92-.59-1.43-.59-.52 0-1.04.2-1.43.59L10.3 9.45l-7.72 7.72c-.78.78-.78 2.05 0 2.83L4 21.41c.39.39.9.59 1.41.59.51 0 1.02-.2 1.41-.59l7.78-7.78 2.81-2.81c.8-.78.8-2.07 0-2.86zM5.41 20L4 18.59l7.72-7.72 1.47 1.35L5.41 20z\"/>\n",
              "  </svg>\n",
              "      </button>\n",
              "      \n",
              "  <style>\n",
              "    .colab-df-container {\n",
              "      display:flex;\n",
              "      flex-wrap:wrap;\n",
              "      gap: 12px;\n",
              "    }\n",
              "\n",
              "    .colab-df-convert {\n",
              "      background-color: #E8F0FE;\n",
              "      border: none;\n",
              "      border-radius: 50%;\n",
              "      cursor: pointer;\n",
              "      display: none;\n",
              "      fill: #1967D2;\n",
              "      height: 32px;\n",
              "      padding: 0 0 0 0;\n",
              "      width: 32px;\n",
              "    }\n",
              "\n",
              "    .colab-df-convert:hover {\n",
              "      background-color: #E2EBFA;\n",
              "      box-shadow: 0px 1px 2px rgba(60, 64, 67, 0.3), 0px 1px 3px 1px rgba(60, 64, 67, 0.15);\n",
              "      fill: #174EA6;\n",
              "    }\n",
              "\n",
              "    [theme=dark] .colab-df-convert {\n",
              "      background-color: #3B4455;\n",
              "      fill: #D2E3FC;\n",
              "    }\n",
              "\n",
              "    [theme=dark] .colab-df-convert:hover {\n",
              "      background-color: #434B5C;\n",
              "      box-shadow: 0px 1px 3px 1px rgba(0, 0, 0, 0.15);\n",
              "      filter: drop-shadow(0px 1px 2px rgba(0, 0, 0, 0.3));\n",
              "      fill: #FFFFFF;\n",
              "    }\n",
              "  </style>\n",
              "\n",
              "      <script>\n",
              "        const buttonEl =\n",
              "          document.querySelector('#df-03ca5077-6036-4567-8e10-2aed130ac471 button.colab-df-convert');\n",
              "        buttonEl.style.display =\n",
              "          google.colab.kernel.accessAllowed ? 'block' : 'none';\n",
              "\n",
              "        async function convertToInteractive(key) {\n",
              "          const element = document.querySelector('#df-03ca5077-6036-4567-8e10-2aed130ac471');\n",
              "          const dataTable =\n",
              "            await google.colab.kernel.invokeFunction('convertToInteractive',\n",
              "                                                     [key], {});\n",
              "          if (!dataTable) return;\n",
              "\n",
              "          const docLinkHtml = 'Like what you see? Visit the ' +\n",
              "            '<a target=\"_blank\" href=https://colab.research.google.com/notebooks/data_table.ipynb>data table notebook</a>'\n",
              "            + ' to learn more about interactive tables.';\n",
              "          element.innerHTML = '';\n",
              "          dataTable['output_type'] = 'display_data';\n",
              "          await google.colab.output.renderOutput(dataTable, element);\n",
              "          const docLink = document.createElement('div');\n",
              "          docLink.innerHTML = docLinkHtml;\n",
              "          element.appendChild(docLink);\n",
              "        }\n",
              "      </script>\n",
              "    </div>\n",
              "  </div>\n",
              "  "
            ]
          },
          "metadata": {},
          "execution_count": 29
        }
      ]
    },
    {
      "cell_type": "markdown",
      "source": [
        "3) Сделаем N запросов и оценим время"
      ],
      "metadata": {
        "id": "8aI2xvo2nk8i"
      }
    },
    {
      "cell_type": "code",
      "source": [
        "N = 50"
      ],
      "metadata": {
        "id": "cXd2xi8JnnSY"
      },
      "execution_count": 30,
      "outputs": []
    },
    {
      "cell_type": "code",
      "source": [
        "%%time\n",
        "predictions = X_test[\n",
        "                     [\"generation\", \"gdp_per_capita ($)\", \"year\"]\n",
        "                     ].iloc[:N].apply(lambda x: send_json(x), axis=1)"
      ],
      "metadata": {
        "colab": {
          "base_uri": "https://localhost:8080/"
        },
        "id": "HtTqaVuxomYK",
        "outputId": "dc9b88bd-ba3d-4a61-ded8-56321e8a0f8a"
      },
      "execution_count": 31,
      "outputs": [
        {
          "output_type": "stream",
          "name": "stdout",
          "text": [
            "CPU times: user 185 ms, sys: 15.4 ms, total: 201 ms\n",
            "Wall time: 8.78 s\n"
          ]
        }
      ]
    },
    {
      "cell_type": "code",
      "source": [
        "predictions.values[:10]"
      ],
      "metadata": {
        "colab": {
          "base_uri": "https://localhost:8080/"
        },
        "id": "bUUiCuQIo5B_",
        "outputId": "579c3785-1005-4aa2-8c49-7b272a758f52"
      },
      "execution_count": 32,
      "outputs": [
        {
          "output_type": "execute_result",
          "data": {
            "text/plain": [
              "array([ 0.95403687, 47.70278885, 10.58481745,  7.40664641, 18.00017095,\n",
              "       18.57460607,  1.09449213,  2.25527128,  7.19659809,  0.71548211])"
            ]
          },
          "metadata": {},
          "execution_count": 32
        }
      ]
    },
    {
      "cell_type": "markdown",
      "source": [
        "4) Посчитаем метрику"
      ],
      "metadata": {
        "id": "agBZDYR_o_gg"
      }
    },
    {
      "cell_type": "code",
      "source": [
        "y_test.head()"
      ],
      "metadata": {
        "colab": {
          "base_uri": "https://localhost:8080/",
          "height": 206
        },
        "id": "q-UaRQ3lpA8v",
        "outputId": "cf936ef4-f45a-4966-a373-c746a3e110cf"
      },
      "execution_count": 33,
      "outputs": [
        {
          "output_type": "execute_result",
          "data": {
            "text/plain": [
              "   suicides/100k pop\n",
              "0               0.10\n",
              "1              13.92\n",
              "2               2.54\n",
              "3               0.00\n",
              "4               0.00"
            ],
            "text/html": [
              "\n",
              "  <div id=\"df-bcb93a09-857b-4ba6-a852-e8a4b21c1835\">\n",
              "    <div class=\"colab-df-container\">\n",
              "      <div>\n",
              "<style scoped>\n",
              "    .dataframe tbody tr th:only-of-type {\n",
              "        vertical-align: middle;\n",
              "    }\n",
              "\n",
              "    .dataframe tbody tr th {\n",
              "        vertical-align: top;\n",
              "    }\n",
              "\n",
              "    .dataframe thead th {\n",
              "        text-align: right;\n",
              "    }\n",
              "</style>\n",
              "<table border=\"1\" class=\"dataframe\">\n",
              "  <thead>\n",
              "    <tr style=\"text-align: right;\">\n",
              "      <th></th>\n",
              "      <th>suicides/100k pop</th>\n",
              "    </tr>\n",
              "  </thead>\n",
              "  <tbody>\n",
              "    <tr>\n",
              "      <th>0</th>\n",
              "      <td>0.10</td>\n",
              "    </tr>\n",
              "    <tr>\n",
              "      <th>1</th>\n",
              "      <td>13.92</td>\n",
              "    </tr>\n",
              "    <tr>\n",
              "      <th>2</th>\n",
              "      <td>2.54</td>\n",
              "    </tr>\n",
              "    <tr>\n",
              "      <th>3</th>\n",
              "      <td>0.00</td>\n",
              "    </tr>\n",
              "    <tr>\n",
              "      <th>4</th>\n",
              "      <td>0.00</td>\n",
              "    </tr>\n",
              "  </tbody>\n",
              "</table>\n",
              "</div>\n",
              "      <button class=\"colab-df-convert\" onclick=\"convertToInteractive('df-bcb93a09-857b-4ba6-a852-e8a4b21c1835')\"\n",
              "              title=\"Convert this dataframe to an interactive table.\"\n",
              "              style=\"display:none;\">\n",
              "        \n",
              "  <svg xmlns=\"http://www.w3.org/2000/svg\" height=\"24px\"viewBox=\"0 0 24 24\"\n",
              "       width=\"24px\">\n",
              "    <path d=\"M0 0h24v24H0V0z\" fill=\"none\"/>\n",
              "    <path d=\"M18.56 5.44l.94 2.06.94-2.06 2.06-.94-2.06-.94-.94-2.06-.94 2.06-2.06.94zm-11 1L8.5 8.5l.94-2.06 2.06-.94-2.06-.94L8.5 2.5l-.94 2.06-2.06.94zm10 10l.94 2.06.94-2.06 2.06-.94-2.06-.94-.94-2.06-.94 2.06-2.06.94z\"/><path d=\"M17.41 7.96l-1.37-1.37c-.4-.4-.92-.59-1.43-.59-.52 0-1.04.2-1.43.59L10.3 9.45l-7.72 7.72c-.78.78-.78 2.05 0 2.83L4 21.41c.39.39.9.59 1.41.59.51 0 1.02-.2 1.41-.59l7.78-7.78 2.81-2.81c.8-.78.8-2.07 0-2.86zM5.41 20L4 18.59l7.72-7.72 1.47 1.35L5.41 20z\"/>\n",
              "  </svg>\n",
              "      </button>\n",
              "      \n",
              "  <style>\n",
              "    .colab-df-container {\n",
              "      display:flex;\n",
              "      flex-wrap:wrap;\n",
              "      gap: 12px;\n",
              "    }\n",
              "\n",
              "    .colab-df-convert {\n",
              "      background-color: #E8F0FE;\n",
              "      border: none;\n",
              "      border-radius: 50%;\n",
              "      cursor: pointer;\n",
              "      display: none;\n",
              "      fill: #1967D2;\n",
              "      height: 32px;\n",
              "      padding: 0 0 0 0;\n",
              "      width: 32px;\n",
              "    }\n",
              "\n",
              "    .colab-df-convert:hover {\n",
              "      background-color: #E2EBFA;\n",
              "      box-shadow: 0px 1px 2px rgba(60, 64, 67, 0.3), 0px 1px 3px 1px rgba(60, 64, 67, 0.15);\n",
              "      fill: #174EA6;\n",
              "    }\n",
              "\n",
              "    [theme=dark] .colab-df-convert {\n",
              "      background-color: #3B4455;\n",
              "      fill: #D2E3FC;\n",
              "    }\n",
              "\n",
              "    [theme=dark] .colab-df-convert:hover {\n",
              "      background-color: #434B5C;\n",
              "      box-shadow: 0px 1px 3px 1px rgba(0, 0, 0, 0.15);\n",
              "      filter: drop-shadow(0px 1px 2px rgba(0, 0, 0, 0.3));\n",
              "      fill: #FFFFFF;\n",
              "    }\n",
              "  </style>\n",
              "\n",
              "      <script>\n",
              "        const buttonEl =\n",
              "          document.querySelector('#df-bcb93a09-857b-4ba6-a852-e8a4b21c1835 button.colab-df-convert');\n",
              "        buttonEl.style.display =\n",
              "          google.colab.kernel.accessAllowed ? 'block' : 'none';\n",
              "\n",
              "        async function convertToInteractive(key) {\n",
              "          const element = document.querySelector('#df-bcb93a09-857b-4ba6-a852-e8a4b21c1835');\n",
              "          const dataTable =\n",
              "            await google.colab.kernel.invokeFunction('convertToInteractive',\n",
              "                                                     [key], {});\n",
              "          if (!dataTable) return;\n",
              "\n",
              "          const docLinkHtml = 'Like what you see? Visit the ' +\n",
              "            '<a target=\"_blank\" href=https://colab.research.google.com/notebooks/data_table.ipynb>data table notebook</a>'\n",
              "            + ' to learn more about interactive tables.';\n",
              "          element.innerHTML = '';\n",
              "          dataTable['output_type'] = 'display_data';\n",
              "          await google.colab.output.renderOutput(dataTable, element);\n",
              "          const docLink = document.createElement('div');\n",
              "          docLink.innerHTML = docLinkHtml;\n",
              "          element.appendChild(docLink);\n",
              "        }\n",
              "      </script>\n",
              "    </div>\n",
              "  </div>\n",
              "  "
            ]
          },
          "metadata": {},
          "execution_count": 33
        }
      ]
    },
    {
      "cell_type": "code",
      "source": [
        "evaluate_preds(y_test['suicides/100k pop'].tolist()[:N], predictions)"
      ],
      "metadata": {
        "colab": {
          "base_uri": "https://localhost:8080/",
          "height": 566
        },
        "id": "XU4D5faLpM2P",
        "outputId": "08485a5e-48f1-412e-9b82-efc774db0036"
      },
      "execution_count": 34,
      "outputs": [
        {
          "output_type": "stream",
          "name": "stdout",
          "text": [
            "R2:\t-0.314\n",
            "RMSE:\t12.48\n",
            "MSE:\t155.738\n"
          ]
        },
        {
          "output_type": "display_data",
          "data": {
            "text/plain": [
              "<Figure size 576x576 with 1 Axes>"
            ],
            "image/png": "[encoded data removed]"
          },
          "metadata": {
            "needs_background": "light"
          }
        }
      ]
    },
    {
      "cell_type": "markdown",
      "source": [
        "5) Анализ: Качество модели заметно ухудшилось."
      ],
      "metadata": {
        "id": "aeggD8kquC1J"
      }
    }
  ]
}